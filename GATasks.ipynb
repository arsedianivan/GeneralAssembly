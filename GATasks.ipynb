{
 "cells": [
  {
   "cell_type": "markdown",
   "id": "517f3b61",
   "metadata": {},
   "source": [
    "## DATA COLLECTION"
   ]
  },
  {
   "cell_type": "markdown",
   "id": "c04ce394",
   "metadata": {},
   "source": [
    "### IMPORT PYTHON LIBRARIES & PACKAGES"
   ]
  },
  {
   "cell_type": "code",
   "execution_count": 338,
   "id": "90b0e0fb",
   "metadata": {},
   "outputs": [],
   "source": [
    "import pandas as pd"
   ]
  },
  {
   "cell_type": "markdown",
   "id": "7cc2aced",
   "metadata": {},
   "source": [
    "### IMPORT DATA SET FROM CSV"
   ]
  },
  {
   "cell_type": "code",
   "execution_count": 339,
   "id": "e4a4c8d3",
   "metadata": {},
   "outputs": [],
   "source": [
    "cancer = pd.read_csv(\"breast-cancer.csv\", header= None)"
   ]
  },
  {
   "cell_type": "markdown",
   "id": "e84598c7",
   "metadata": {},
   "source": [
    "### IMPORT FIELD NAMES FROM TEXT FILE"
   ]
  },
  {
   "cell_type": "code",
   "execution_count": 340,
   "id": "b7e30385",
   "metadata": {},
   "outputs": [],
   "source": [
    "with open(\"field_names.txt\") as fn:\n",
    "    field_names = fn.read().splitlines()"
   ]
  },
  {
   "cell_type": "markdown",
   "id": "c5c98bbd",
   "metadata": {},
   "source": [
    "### ASSIGN FIELD NAMES AS THE HEADER NAMES"
   ]
  },
  {
   "cell_type": "code",
   "execution_count": 341,
   "id": "1c127b42",
   "metadata": {},
   "outputs": [
    {
     "data": {
      "text/html": [
       "<div>\n",
       "<style scoped>\n",
       "    .dataframe tbody tr th:only-of-type {\n",
       "        vertical-align: middle;\n",
       "    }\n",
       "\n",
       "    .dataframe tbody tr th {\n",
       "        vertical-align: top;\n",
       "    }\n",
       "\n",
       "    .dataframe thead th {\n",
       "        text-align: right;\n",
       "    }\n",
       "</style>\n",
       "<table border=\"1\" class=\"dataframe\">\n",
       "  <thead>\n",
       "    <tr style=\"text-align: right;\">\n",
       "      <th></th>\n",
       "      <th>ID</th>\n",
       "      <th>diagnosis</th>\n",
       "      <th>radius_mean</th>\n",
       "      <th>radius_sd_error</th>\n",
       "      <th>radius_worst</th>\n",
       "      <th>texture_mean</th>\n",
       "      <th>texture_sd_error</th>\n",
       "      <th>texture_worst</th>\n",
       "      <th>perimeter_mean</th>\n",
       "      <th>perimeter_sd_error</th>\n",
       "      <th>...</th>\n",
       "      <th>concavity_worst</th>\n",
       "      <th>concave_points_mean</th>\n",
       "      <th>concave_points_sd_error</th>\n",
       "      <th>concave_points_worst</th>\n",
       "      <th>symmetry_mean</th>\n",
       "      <th>symmetry_sd_error</th>\n",
       "      <th>symmetry_worst</th>\n",
       "      <th>fractal_dimension_mean</th>\n",
       "      <th>fractal_dimension_sd_error</th>\n",
       "      <th>fractal_dimension_worst</th>\n",
       "    </tr>\n",
       "  </thead>\n",
       "  <tbody>\n",
       "    <tr>\n",
       "      <th>0</th>\n",
       "      <td>842302</td>\n",
       "      <td>M</td>\n",
       "      <td>17.99</td>\n",
       "      <td>10.38</td>\n",
       "      <td>122.80</td>\n",
       "      <td>1001.0</td>\n",
       "      <td>0.11840</td>\n",
       "      <td>0.27760</td>\n",
       "      <td>0.3001</td>\n",
       "      <td>0.14710</td>\n",
       "      <td>...</td>\n",
       "      <td>25.38</td>\n",
       "      <td>17.33</td>\n",
       "      <td>184.60</td>\n",
       "      <td>2019.0</td>\n",
       "      <td>0.1622</td>\n",
       "      <td>0.6656</td>\n",
       "      <td>0.7119</td>\n",
       "      <td>0.2654</td>\n",
       "      <td>0.4601</td>\n",
       "      <td>0.11890</td>\n",
       "    </tr>\n",
       "    <tr>\n",
       "      <th>1</th>\n",
       "      <td>842517</td>\n",
       "      <td>M</td>\n",
       "      <td>20.57</td>\n",
       "      <td>17.77</td>\n",
       "      <td>132.90</td>\n",
       "      <td>1326.0</td>\n",
       "      <td>0.08474</td>\n",
       "      <td>0.07864</td>\n",
       "      <td>0.0869</td>\n",
       "      <td>0.07017</td>\n",
       "      <td>...</td>\n",
       "      <td>24.99</td>\n",
       "      <td>23.41</td>\n",
       "      <td>158.80</td>\n",
       "      <td>1956.0</td>\n",
       "      <td>0.1238</td>\n",
       "      <td>0.1866</td>\n",
       "      <td>0.2416</td>\n",
       "      <td>0.1860</td>\n",
       "      <td>0.2750</td>\n",
       "      <td>0.08902</td>\n",
       "    </tr>\n",
       "    <tr>\n",
       "      <th>2</th>\n",
       "      <td>84300903</td>\n",
       "      <td>M</td>\n",
       "      <td>19.69</td>\n",
       "      <td>21.25</td>\n",
       "      <td>130.00</td>\n",
       "      <td>1203.0</td>\n",
       "      <td>0.10960</td>\n",
       "      <td>0.15990</td>\n",
       "      <td>0.1974</td>\n",
       "      <td>0.12790</td>\n",
       "      <td>...</td>\n",
       "      <td>23.57</td>\n",
       "      <td>25.53</td>\n",
       "      <td>152.50</td>\n",
       "      <td>1709.0</td>\n",
       "      <td>0.1444</td>\n",
       "      <td>0.4245</td>\n",
       "      <td>0.4504</td>\n",
       "      <td>0.2430</td>\n",
       "      <td>0.3613</td>\n",
       "      <td>0.08758</td>\n",
       "    </tr>\n",
       "    <tr>\n",
       "      <th>3</th>\n",
       "      <td>84348301</td>\n",
       "      <td>M</td>\n",
       "      <td>11.42</td>\n",
       "      <td>20.38</td>\n",
       "      <td>77.58</td>\n",
       "      <td>386.1</td>\n",
       "      <td>0.14250</td>\n",
       "      <td>0.28390</td>\n",
       "      <td>0.2414</td>\n",
       "      <td>0.10520</td>\n",
       "      <td>...</td>\n",
       "      <td>14.91</td>\n",
       "      <td>26.50</td>\n",
       "      <td>98.87</td>\n",
       "      <td>567.7</td>\n",
       "      <td>0.2098</td>\n",
       "      <td>0.8663</td>\n",
       "      <td>0.6869</td>\n",
       "      <td>0.2575</td>\n",
       "      <td>0.6638</td>\n",
       "      <td>0.17300</td>\n",
       "    </tr>\n",
       "    <tr>\n",
       "      <th>4</th>\n",
       "      <td>84358402</td>\n",
       "      <td>M</td>\n",
       "      <td>20.29</td>\n",
       "      <td>14.34</td>\n",
       "      <td>135.10</td>\n",
       "      <td>1297.0</td>\n",
       "      <td>0.10030</td>\n",
       "      <td>0.13280</td>\n",
       "      <td>0.1980</td>\n",
       "      <td>0.10430</td>\n",
       "      <td>...</td>\n",
       "      <td>22.54</td>\n",
       "      <td>16.67</td>\n",
       "      <td>152.20</td>\n",
       "      <td>1575.0</td>\n",
       "      <td>0.1374</td>\n",
       "      <td>0.2050</td>\n",
       "      <td>0.4000</td>\n",
       "      <td>0.1625</td>\n",
       "      <td>0.2364</td>\n",
       "      <td>0.07678</td>\n",
       "    </tr>\n",
       "  </tbody>\n",
       "</table>\n",
       "<p>5 rows × 32 columns</p>\n",
       "</div>"
      ],
      "text/plain": [
       "         ID diagnosis  radius_mean  radius_sd_error  radius_worst  \\\n",
       "0    842302         M        17.99            10.38        122.80   \n",
       "1    842517         M        20.57            17.77        132.90   \n",
       "2  84300903         M        19.69            21.25        130.00   \n",
       "3  84348301         M        11.42            20.38         77.58   \n",
       "4  84358402         M        20.29            14.34        135.10   \n",
       "\n",
       "   texture_mean  texture_sd_error  texture_worst  perimeter_mean  \\\n",
       "0        1001.0           0.11840        0.27760          0.3001   \n",
       "1        1326.0           0.08474        0.07864          0.0869   \n",
       "2        1203.0           0.10960        0.15990          0.1974   \n",
       "3         386.1           0.14250        0.28390          0.2414   \n",
       "4        1297.0           0.10030        0.13280          0.1980   \n",
       "\n",
       "   perimeter_sd_error  ...  concavity_worst  concave_points_mean  \\\n",
       "0             0.14710  ...            25.38                17.33   \n",
       "1             0.07017  ...            24.99                23.41   \n",
       "2             0.12790  ...            23.57                25.53   \n",
       "3             0.10520  ...            14.91                26.50   \n",
       "4             0.10430  ...            22.54                16.67   \n",
       "\n",
       "   concave_points_sd_error  concave_points_worst  symmetry_mean  \\\n",
       "0                   184.60                2019.0         0.1622   \n",
       "1                   158.80                1956.0         0.1238   \n",
       "2                   152.50                1709.0         0.1444   \n",
       "3                    98.87                 567.7         0.2098   \n",
       "4                   152.20                1575.0         0.1374   \n",
       "\n",
       "   symmetry_sd_error  symmetry_worst  fractal_dimension_mean  \\\n",
       "0             0.6656          0.7119                  0.2654   \n",
       "1             0.1866          0.2416                  0.1860   \n",
       "2             0.4245          0.4504                  0.2430   \n",
       "3             0.8663          0.6869                  0.2575   \n",
       "4             0.2050          0.4000                  0.1625   \n",
       "\n",
       "   fractal_dimension_sd_error  fractal_dimension_worst  \n",
       "0                      0.4601                  0.11890  \n",
       "1                      0.2750                  0.08902  \n",
       "2                      0.3613                  0.08758  \n",
       "3                      0.6638                  0.17300  \n",
       "4                      0.2364                  0.07678  \n",
       "\n",
       "[5 rows x 32 columns]"
      ]
     },
     "execution_count": 341,
     "metadata": {},
     "output_type": "execute_result"
    }
   ],
   "source": [
    "cancer.columns = field_names\n",
    "\n",
    "cancer.head()"
   ]
  },
  {
   "cell_type": "markdown",
   "id": "b311f340",
   "metadata": {},
   "source": [
    "### CHECK FOR NULL VALUES"
   ]
  },
  {
   "cell_type": "code",
   "execution_count": 342,
   "id": "c4afc418",
   "metadata": {},
   "outputs": [
    {
     "data": {
      "text/plain": [
       "False"
      ]
     },
     "execution_count": 342,
     "metadata": {},
     "output_type": "execute_result"
    }
   ],
   "source": [
    "cancer.isnull().values.any()"
   ]
  },
  {
   "cell_type": "code",
   "execution_count": 343,
   "id": "0ed43e6d",
   "metadata": {},
   "outputs": [
    {
     "data": {
      "text/plain": [
       "ID                            0\n",
       "diagnosis                     0\n",
       "radius_mean                   0\n",
       "radius_sd_error               0\n",
       "radius_worst                  0\n",
       "texture_mean                  0\n",
       "texture_sd_error              0\n",
       "texture_worst                 0\n",
       "perimeter_mean                0\n",
       "perimeter_sd_error            0\n",
       "perimeter_worst               0\n",
       "area_mean                     0\n",
       "area_sd_error                 0\n",
       "area_worst                    0\n",
       "smoothness_mean               0\n",
       "smoothness_sd_error           0\n",
       "smoothness_worst              0\n",
       "compactness_mean              0\n",
       "compactness_sd_error          0\n",
       "compactness_worst             0\n",
       "concavity_mean                0\n",
       "concavity_sd_error            0\n",
       "concavity_worst               0\n",
       "concave_points_mean           0\n",
       "concave_points_sd_error       0\n",
       "concave_points_worst          0\n",
       "symmetry_mean                 0\n",
       "symmetry_sd_error             0\n",
       "symmetry_worst                0\n",
       "fractal_dimension_mean        0\n",
       "fractal_dimension_sd_error    0\n",
       "fractal_dimension_worst       0\n",
       "dtype: int64"
      ]
     },
     "execution_count": 343,
     "metadata": {},
     "output_type": "execute_result"
    }
   ],
   "source": [
    "cancer.isnull().sum()"
   ]
  },
  {
   "cell_type": "markdown",
   "id": "2481cacc",
   "metadata": {},
   "source": [
    "## DATA EXPLORATION & PREPARATION"
   ]
  },
  {
   "cell_type": "markdown",
   "id": "c516cf56",
   "metadata": {},
   "source": [
    "### GET SUMMARY INFORMATION OF THE DATA"
   ]
  },
  {
   "cell_type": "code",
   "execution_count": 344,
   "id": "356287ee",
   "metadata": {},
   "outputs": [
    {
     "name": "stdout",
     "output_type": "stream",
     "text": [
      "<class 'pandas.core.frame.DataFrame'>\n",
      "RangeIndex: 569 entries, 0 to 568\n",
      "Data columns (total 32 columns):\n",
      " #   Column                      Non-Null Count  Dtype  \n",
      "---  ------                      --------------  -----  \n",
      " 0   ID                          569 non-null    int64  \n",
      " 1   diagnosis                   569 non-null    object \n",
      " 2   radius_mean                 569 non-null    float64\n",
      " 3   radius_sd_error             569 non-null    float64\n",
      " 4   radius_worst                569 non-null    float64\n",
      " 5   texture_mean                569 non-null    float64\n",
      " 6   texture_sd_error            569 non-null    float64\n",
      " 7   texture_worst               569 non-null    float64\n",
      " 8   perimeter_mean              569 non-null    float64\n",
      " 9   perimeter_sd_error          569 non-null    float64\n",
      " 10  perimeter_worst             569 non-null    float64\n",
      " 11  area_mean                   569 non-null    float64\n",
      " 12  area_sd_error               569 non-null    float64\n",
      " 13  area_worst                  569 non-null    float64\n",
      " 14  smoothness_mean             569 non-null    float64\n",
      " 15  smoothness_sd_error         569 non-null    float64\n",
      " 16  smoothness_worst            569 non-null    float64\n",
      " 17  compactness_mean            569 non-null    float64\n",
      " 18  compactness_sd_error        569 non-null    float64\n",
      " 19  compactness_worst           569 non-null    float64\n",
      " 20  concavity_mean              569 non-null    float64\n",
      " 21  concavity_sd_error          569 non-null    float64\n",
      " 22  concavity_worst             569 non-null    float64\n",
      " 23  concave_points_mean         569 non-null    float64\n",
      " 24  concave_points_sd_error     569 non-null    float64\n",
      " 25  concave_points_worst        569 non-null    float64\n",
      " 26  symmetry_mean               569 non-null    float64\n",
      " 27  symmetry_sd_error           569 non-null    float64\n",
      " 28  symmetry_worst              569 non-null    float64\n",
      " 29  fractal_dimension_mean      569 non-null    float64\n",
      " 30  fractal_dimension_sd_error  569 non-null    float64\n",
      " 31  fractal_dimension_worst     569 non-null    float64\n",
      "dtypes: float64(30), int64(1), object(1)\n",
      "memory usage: 142.4+ KB\n"
     ]
    }
   ],
   "source": [
    "cancer.info()"
   ]
  },
  {
   "cell_type": "markdown",
   "id": "e94231af",
   "metadata": {},
   "source": [
    "### DROP UNNECESSARY VARIABLE(S)"
   ]
  },
  {
   "cell_type": "code",
   "execution_count": 345,
   "id": "1586fa4e",
   "metadata": {},
   "outputs": [
    {
     "data": {
      "text/html": [
       "<div>\n",
       "<style scoped>\n",
       "    .dataframe tbody tr th:only-of-type {\n",
       "        vertical-align: middle;\n",
       "    }\n",
       "\n",
       "    .dataframe tbody tr th {\n",
       "        vertical-align: top;\n",
       "    }\n",
       "\n",
       "    .dataframe thead th {\n",
       "        text-align: right;\n",
       "    }\n",
       "</style>\n",
       "<table border=\"1\" class=\"dataframe\">\n",
       "  <thead>\n",
       "    <tr style=\"text-align: right;\">\n",
       "      <th></th>\n",
       "      <th>diagnosis</th>\n",
       "      <th>radius_mean</th>\n",
       "      <th>texture_mean</th>\n",
       "      <th>perimeter_mean</th>\n",
       "      <th>area_mean</th>\n",
       "      <th>smoothness_mean</th>\n",
       "      <th>compactness_mean</th>\n",
       "      <th>concavity_mean</th>\n",
       "      <th>concave_points_mean</th>\n",
       "      <th>symmetry_mean</th>\n",
       "      <th>fractal_dimension_mean</th>\n",
       "    </tr>\n",
       "  </thead>\n",
       "  <tbody>\n",
       "    <tr>\n",
       "      <th>0</th>\n",
       "      <td>M</td>\n",
       "      <td>17.99</td>\n",
       "      <td>1001.0</td>\n",
       "      <td>0.30010</td>\n",
       "      <td>0.07871</td>\n",
       "      <td>8.589</td>\n",
       "      <td>0.04904</td>\n",
       "      <td>0.03003</td>\n",
       "      <td>17.33</td>\n",
       "      <td>0.1622</td>\n",
       "      <td>0.2654</td>\n",
       "    </tr>\n",
       "    <tr>\n",
       "      <th>1</th>\n",
       "      <td>M</td>\n",
       "      <td>20.57</td>\n",
       "      <td>1326.0</td>\n",
       "      <td>0.08690</td>\n",
       "      <td>0.05667</td>\n",
       "      <td>3.398</td>\n",
       "      <td>0.01308</td>\n",
       "      <td>0.01389</td>\n",
       "      <td>23.41</td>\n",
       "      <td>0.1238</td>\n",
       "      <td>0.1860</td>\n",
       "    </tr>\n",
       "    <tr>\n",
       "      <th>2</th>\n",
       "      <td>M</td>\n",
       "      <td>19.69</td>\n",
       "      <td>1203.0</td>\n",
       "      <td>0.19740</td>\n",
       "      <td>0.05999</td>\n",
       "      <td>4.585</td>\n",
       "      <td>0.04006</td>\n",
       "      <td>0.02250</td>\n",
       "      <td>25.53</td>\n",
       "      <td>0.1444</td>\n",
       "      <td>0.2430</td>\n",
       "    </tr>\n",
       "    <tr>\n",
       "      <th>3</th>\n",
       "      <td>M</td>\n",
       "      <td>11.42</td>\n",
       "      <td>386.1</td>\n",
       "      <td>0.24140</td>\n",
       "      <td>0.09744</td>\n",
       "      <td>3.445</td>\n",
       "      <td>0.07458</td>\n",
       "      <td>0.05963</td>\n",
       "      <td>26.50</td>\n",
       "      <td>0.2098</td>\n",
       "      <td>0.2575</td>\n",
       "    </tr>\n",
       "    <tr>\n",
       "      <th>4</th>\n",
       "      <td>M</td>\n",
       "      <td>20.29</td>\n",
       "      <td>1297.0</td>\n",
       "      <td>0.19800</td>\n",
       "      <td>0.05883</td>\n",
       "      <td>5.438</td>\n",
       "      <td>0.02461</td>\n",
       "      <td>0.01756</td>\n",
       "      <td>16.67</td>\n",
       "      <td>0.1374</td>\n",
       "      <td>0.1625</td>\n",
       "    </tr>\n",
       "    <tr>\n",
       "      <th>5</th>\n",
       "      <td>M</td>\n",
       "      <td>12.45</td>\n",
       "      <td>477.1</td>\n",
       "      <td>0.15780</td>\n",
       "      <td>0.07613</td>\n",
       "      <td>2.217</td>\n",
       "      <td>0.03345</td>\n",
       "      <td>0.02165</td>\n",
       "      <td>23.75</td>\n",
       "      <td>0.1791</td>\n",
       "      <td>0.1741</td>\n",
       "    </tr>\n",
       "    <tr>\n",
       "      <th>6</th>\n",
       "      <td>M</td>\n",
       "      <td>18.25</td>\n",
       "      <td>1040.0</td>\n",
       "      <td>0.11270</td>\n",
       "      <td>0.05742</td>\n",
       "      <td>3.180</td>\n",
       "      <td>0.01382</td>\n",
       "      <td>0.01369</td>\n",
       "      <td>27.66</td>\n",
       "      <td>0.1442</td>\n",
       "      <td>0.1932</td>\n",
       "    </tr>\n",
       "    <tr>\n",
       "      <th>7</th>\n",
       "      <td>M</td>\n",
       "      <td>13.71</td>\n",
       "      <td>577.9</td>\n",
       "      <td>0.09366</td>\n",
       "      <td>0.07451</td>\n",
       "      <td>3.856</td>\n",
       "      <td>0.03029</td>\n",
       "      <td>0.01486</td>\n",
       "      <td>28.14</td>\n",
       "      <td>0.1654</td>\n",
       "      <td>0.1556</td>\n",
       "    </tr>\n",
       "    <tr>\n",
       "      <th>8</th>\n",
       "      <td>M</td>\n",
       "      <td>13.00</td>\n",
       "      <td>519.8</td>\n",
       "      <td>0.18590</td>\n",
       "      <td>0.07389</td>\n",
       "      <td>2.406</td>\n",
       "      <td>0.03502</td>\n",
       "      <td>0.02143</td>\n",
       "      <td>30.73</td>\n",
       "      <td>0.1703</td>\n",
       "      <td>0.2060</td>\n",
       "    </tr>\n",
       "    <tr>\n",
       "      <th>9</th>\n",
       "      <td>M</td>\n",
       "      <td>12.46</td>\n",
       "      <td>475.9</td>\n",
       "      <td>0.22730</td>\n",
       "      <td>0.08243</td>\n",
       "      <td>2.039</td>\n",
       "      <td>0.07217</td>\n",
       "      <td>0.01789</td>\n",
       "      <td>40.68</td>\n",
       "      <td>0.1853</td>\n",
       "      <td>0.2210</td>\n",
       "    </tr>\n",
       "  </tbody>\n",
       "</table>\n",
       "</div>"
      ],
      "text/plain": [
       "  diagnosis  radius_mean  texture_mean  perimeter_mean  area_mean  \\\n",
       "0         M        17.99        1001.0         0.30010    0.07871   \n",
       "1         M        20.57        1326.0         0.08690    0.05667   \n",
       "2         M        19.69        1203.0         0.19740    0.05999   \n",
       "3         M        11.42         386.1         0.24140    0.09744   \n",
       "4         M        20.29        1297.0         0.19800    0.05883   \n",
       "5         M        12.45         477.1         0.15780    0.07613   \n",
       "6         M        18.25        1040.0         0.11270    0.05742   \n",
       "7         M        13.71         577.9         0.09366    0.07451   \n",
       "8         M        13.00         519.8         0.18590    0.07389   \n",
       "9         M        12.46         475.9         0.22730    0.08243   \n",
       "\n",
       "   smoothness_mean  compactness_mean  concavity_mean  concave_points_mean  \\\n",
       "0            8.589           0.04904         0.03003                17.33   \n",
       "1            3.398           0.01308         0.01389                23.41   \n",
       "2            4.585           0.04006         0.02250                25.53   \n",
       "3            3.445           0.07458         0.05963                26.50   \n",
       "4            5.438           0.02461         0.01756                16.67   \n",
       "5            2.217           0.03345         0.02165                23.75   \n",
       "6            3.180           0.01382         0.01369                27.66   \n",
       "7            3.856           0.03029         0.01486                28.14   \n",
       "8            2.406           0.03502         0.02143                30.73   \n",
       "9            2.039           0.07217         0.01789                40.68   \n",
       "\n",
       "   symmetry_mean  fractal_dimension_mean  \n",
       "0         0.1622                  0.2654  \n",
       "1         0.1238                  0.1860  \n",
       "2         0.1444                  0.2430  \n",
       "3         0.2098                  0.2575  \n",
       "4         0.1374                  0.1625  \n",
       "5         0.1791                  0.1741  \n",
       "6         0.1442                  0.1932  \n",
       "7         0.1654                  0.1556  \n",
       "8         0.1703                  0.2060  \n",
       "9         0.1853                  0.2210  "
      ]
     },
     "execution_count": 345,
     "metadata": {},
     "output_type": "execute_result"
    }
   ],
   "source": [
    "cancer.drop(['ID', 'radius_sd_error', 'radius_worst', 'texture_sd_error', 'texture_worst', 'perimeter_sd_error', 'perimeter_worst','area_sd_error','area_worst','smoothness_sd_error','smoothness_worst', 'compactness_sd_error', 'compactness_worst','concave_points_sd_error','concave_points_worst','symmetry_sd_error', 'symmetry_worst','fractal_dimension_sd_error', 'fractal_dimension_worst','concavity_sd_error', 'concavity_worst'], axis=1, inplace=True)\n",
    "cancer.head(10)"
   ]
  },
  {
   "cell_type": "markdown",
   "id": "51bcedc0",
   "metadata": {},
   "source": [
    "### GET STATISTICAL SUMMARY OF THE DATA"
   ]
  },
  {
   "cell_type": "code",
   "execution_count": 346,
   "id": "e0debc18",
   "metadata": {},
   "outputs": [
    {
     "data": {
      "text/html": [
       "<div>\n",
       "<style scoped>\n",
       "    .dataframe tbody tr th:only-of-type {\n",
       "        vertical-align: middle;\n",
       "    }\n",
       "\n",
       "    .dataframe tbody tr th {\n",
       "        vertical-align: top;\n",
       "    }\n",
       "\n",
       "    .dataframe thead th {\n",
       "        text-align: right;\n",
       "    }\n",
       "</style>\n",
       "<table border=\"1\" class=\"dataframe\">\n",
       "  <thead>\n",
       "    <tr style=\"text-align: right;\">\n",
       "      <th></th>\n",
       "      <th>radius_mean</th>\n",
       "      <th>texture_mean</th>\n",
       "      <th>perimeter_mean</th>\n",
       "      <th>area_mean</th>\n",
       "      <th>smoothness_mean</th>\n",
       "      <th>compactness_mean</th>\n",
       "      <th>concavity_mean</th>\n",
       "      <th>concave_points_mean</th>\n",
       "      <th>symmetry_mean</th>\n",
       "      <th>fractal_dimension_mean</th>\n",
       "    </tr>\n",
       "  </thead>\n",
       "  <tbody>\n",
       "    <tr>\n",
       "      <th>count</th>\n",
       "      <td>569.000000</td>\n",
       "      <td>569.000000</td>\n",
       "      <td>569.000000</td>\n",
       "      <td>569.000000</td>\n",
       "      <td>569.000000</td>\n",
       "      <td>569.000000</td>\n",
       "      <td>569.000000</td>\n",
       "      <td>569.000000</td>\n",
       "      <td>569.000000</td>\n",
       "      <td>569.000000</td>\n",
       "    </tr>\n",
       "    <tr>\n",
       "      <th>mean</th>\n",
       "      <td>14.127292</td>\n",
       "      <td>654.889104</td>\n",
       "      <td>0.088799</td>\n",
       "      <td>0.062798</td>\n",
       "      <td>2.866059</td>\n",
       "      <td>0.025478</td>\n",
       "      <td>0.020542</td>\n",
       "      <td>25.677223</td>\n",
       "      <td>0.132369</td>\n",
       "      <td>0.114606</td>\n",
       "    </tr>\n",
       "    <tr>\n",
       "      <th>std</th>\n",
       "      <td>3.524049</td>\n",
       "      <td>351.914129</td>\n",
       "      <td>0.079720</td>\n",
       "      <td>0.007060</td>\n",
       "      <td>2.021855</td>\n",
       "      <td>0.017908</td>\n",
       "      <td>0.008266</td>\n",
       "      <td>6.146258</td>\n",
       "      <td>0.022832</td>\n",
       "      <td>0.065732</td>\n",
       "    </tr>\n",
       "    <tr>\n",
       "      <th>min</th>\n",
       "      <td>6.981000</td>\n",
       "      <td>143.500000</td>\n",
       "      <td>0.000000</td>\n",
       "      <td>0.049960</td>\n",
       "      <td>0.757000</td>\n",
       "      <td>0.002252</td>\n",
       "      <td>0.007882</td>\n",
       "      <td>12.020000</td>\n",
       "      <td>0.071170</td>\n",
       "      <td>0.000000</td>\n",
       "    </tr>\n",
       "    <tr>\n",
       "      <th>25%</th>\n",
       "      <td>11.700000</td>\n",
       "      <td>420.300000</td>\n",
       "      <td>0.029560</td>\n",
       "      <td>0.057700</td>\n",
       "      <td>1.606000</td>\n",
       "      <td>0.013080</td>\n",
       "      <td>0.015160</td>\n",
       "      <td>21.080000</td>\n",
       "      <td>0.116600</td>\n",
       "      <td>0.064930</td>\n",
       "    </tr>\n",
       "    <tr>\n",
       "      <th>50%</th>\n",
       "      <td>13.370000</td>\n",
       "      <td>551.100000</td>\n",
       "      <td>0.061540</td>\n",
       "      <td>0.061540</td>\n",
       "      <td>2.287000</td>\n",
       "      <td>0.020450</td>\n",
       "      <td>0.018730</td>\n",
       "      <td>25.410000</td>\n",
       "      <td>0.131300</td>\n",
       "      <td>0.099930</td>\n",
       "    </tr>\n",
       "    <tr>\n",
       "      <th>75%</th>\n",
       "      <td>15.780000</td>\n",
       "      <td>782.700000</td>\n",
       "      <td>0.130700</td>\n",
       "      <td>0.066120</td>\n",
       "      <td>3.357000</td>\n",
       "      <td>0.032450</td>\n",
       "      <td>0.023480</td>\n",
       "      <td>29.720000</td>\n",
       "      <td>0.146000</td>\n",
       "      <td>0.161400</td>\n",
       "    </tr>\n",
       "    <tr>\n",
       "      <th>max</th>\n",
       "      <td>28.110000</td>\n",
       "      <td>2501.000000</td>\n",
       "      <td>0.426800</td>\n",
       "      <td>0.097440</td>\n",
       "      <td>21.980000</td>\n",
       "      <td>0.135400</td>\n",
       "      <td>0.078950</td>\n",
       "      <td>49.540000</td>\n",
       "      <td>0.222600</td>\n",
       "      <td>0.291000</td>\n",
       "    </tr>\n",
       "  </tbody>\n",
       "</table>\n",
       "</div>"
      ],
      "text/plain": [
       "       radius_mean  texture_mean  perimeter_mean   area_mean  smoothness_mean  \\\n",
       "count   569.000000    569.000000      569.000000  569.000000       569.000000   \n",
       "mean     14.127292    654.889104        0.088799    0.062798         2.866059   \n",
       "std       3.524049    351.914129        0.079720    0.007060         2.021855   \n",
       "min       6.981000    143.500000        0.000000    0.049960         0.757000   \n",
       "25%      11.700000    420.300000        0.029560    0.057700         1.606000   \n",
       "50%      13.370000    551.100000        0.061540    0.061540         2.287000   \n",
       "75%      15.780000    782.700000        0.130700    0.066120         3.357000   \n",
       "max      28.110000   2501.000000        0.426800    0.097440        21.980000   \n",
       "\n",
       "       compactness_mean  concavity_mean  concave_points_mean  symmetry_mean  \\\n",
       "count        569.000000      569.000000           569.000000     569.000000   \n",
       "mean           0.025478        0.020542            25.677223       0.132369   \n",
       "std            0.017908        0.008266             6.146258       0.022832   \n",
       "min            0.002252        0.007882            12.020000       0.071170   \n",
       "25%            0.013080        0.015160            21.080000       0.116600   \n",
       "50%            0.020450        0.018730            25.410000       0.131300   \n",
       "75%            0.032450        0.023480            29.720000       0.146000   \n",
       "max            0.135400        0.078950            49.540000       0.222600   \n",
       "\n",
       "       fractal_dimension_mean  \n",
       "count              569.000000  \n",
       "mean                 0.114606  \n",
       "std                  0.065732  \n",
       "min                  0.000000  \n",
       "25%                  0.064930  \n",
       "50%                  0.099930  \n",
       "75%                  0.161400  \n",
       "max                  0.291000  "
      ]
     },
     "execution_count": 346,
     "metadata": {},
     "output_type": "execute_result"
    }
   ],
   "source": [
    "cancer.describe()"
   ]
  },
  {
   "cell_type": "markdown",
   "id": "efc9f76c",
   "metadata": {},
   "source": [
    "### VIEW UNIQUE VALUES OF THE DIAGNOSIS COLUMN"
   ]
  },
  {
   "cell_type": "code",
   "execution_count": 347,
   "id": "9e28527a",
   "metadata": {},
   "outputs": [
    {
     "data": {
      "text/plain": [
       "array(['M', 'B'], dtype=object)"
      ]
     },
     "execution_count": 347,
     "metadata": {},
     "output_type": "execute_result"
    }
   ],
   "source": [
    "cancer.diagnosis.unique()"
   ]
  },
  {
   "cell_type": "markdown",
   "id": "18e62d90",
   "metadata": {},
   "source": [
    "### REVIEW MEAN AND MEDIAN OF SMOOTHNESS AND COMPACTNESS"
   ]
  },
  {
   "cell_type": "code",
   "execution_count": 348,
   "id": "04a2f357",
   "metadata": {},
   "outputs": [
    {
     "data": {
      "text/html": [
       "<div>\n",
       "<style scoped>\n",
       "    .dataframe tbody tr th:only-of-type {\n",
       "        vertical-align: middle;\n",
       "    }\n",
       "\n",
       "    .dataframe tbody tr th {\n",
       "        vertical-align: top;\n",
       "    }\n",
       "\n",
       "    .dataframe thead th {\n",
       "        text-align: right;\n",
       "    }\n",
       "</style>\n",
       "<table border=\"1\" class=\"dataframe\">\n",
       "  <thead>\n",
       "    <tr style=\"text-align: right;\">\n",
       "      <th></th>\n",
       "      <th>count</th>\n",
       "      <th>mean</th>\n",
       "      <th>std</th>\n",
       "      <th>min</th>\n",
       "      <th>25%</th>\n",
       "      <th>50%</th>\n",
       "      <th>75%</th>\n",
       "      <th>max</th>\n",
       "    </tr>\n",
       "    <tr>\n",
       "      <th>diagnosis</th>\n",
       "      <th></th>\n",
       "      <th></th>\n",
       "      <th></th>\n",
       "      <th></th>\n",
       "      <th></th>\n",
       "      <th></th>\n",
       "      <th></th>\n",
       "      <th></th>\n",
       "    </tr>\n",
       "  </thead>\n",
       "  <tbody>\n",
       "    <tr>\n",
       "      <th>B</th>\n",
       "      <td>357.0</td>\n",
       "      <td>2.000321</td>\n",
       "      <td>0.771169</td>\n",
       "      <td>0.757</td>\n",
       "      <td>1.4450</td>\n",
       "      <td>1.8510</td>\n",
       "      <td>2.38800</td>\n",
       "      <td>5.118</td>\n",
       "    </tr>\n",
       "    <tr>\n",
       "      <th>M</th>\n",
       "      <td>212.0</td>\n",
       "      <td>4.323929</td>\n",
       "      <td>2.568546</td>\n",
       "      <td>1.334</td>\n",
       "      <td>2.7155</td>\n",
       "      <td>3.6795</td>\n",
       "      <td>5.20625</td>\n",
       "      <td>21.980</td>\n",
       "    </tr>\n",
       "  </tbody>\n",
       "</table>\n",
       "</div>"
      ],
      "text/plain": [
       "           count      mean       std    min     25%     50%      75%     max\n",
       "diagnosis                                                                   \n",
       "B          357.0  2.000321  0.771169  0.757  1.4450  1.8510  2.38800   5.118\n",
       "M          212.0  4.323929  2.568546  1.334  2.7155  3.6795  5.20625  21.980"
      ]
     },
     "execution_count": 348,
     "metadata": {},
     "output_type": "execute_result"
    }
   ],
   "source": [
    "cancer.groupby(cancer.diagnosis)['smoothness_mean'].describe()"
   ]
  },
  {
   "cell_type": "code",
   "execution_count": 349,
   "id": "cfd8aedb",
   "metadata": {},
   "outputs": [
    {
     "data": {
      "text/html": [
       "<div>\n",
       "<style scoped>\n",
       "    .dataframe tbody tr th:only-of-type {\n",
       "        vertical-align: middle;\n",
       "    }\n",
       "\n",
       "    .dataframe tbody tr th {\n",
       "        vertical-align: top;\n",
       "    }\n",
       "\n",
       "    .dataframe thead th {\n",
       "        text-align: right;\n",
       "    }\n",
       "</style>\n",
       "<table border=\"1\" class=\"dataframe\">\n",
       "  <thead>\n",
       "    <tr style=\"text-align: right;\">\n",
       "      <th></th>\n",
       "      <th>count</th>\n",
       "      <th>mean</th>\n",
       "      <th>std</th>\n",
       "      <th>min</th>\n",
       "      <th>25%</th>\n",
       "      <th>50%</th>\n",
       "      <th>75%</th>\n",
       "      <th>max</th>\n",
       "    </tr>\n",
       "    <tr>\n",
       "      <th>diagnosis</th>\n",
       "      <th></th>\n",
       "      <th></th>\n",
       "      <th></th>\n",
       "      <th></th>\n",
       "      <th></th>\n",
       "      <th></th>\n",
       "      <th></th>\n",
       "      <th></th>\n",
       "    </tr>\n",
       "  </thead>\n",
       "  <tbody>\n",
       "    <tr>\n",
       "      <th>B</th>\n",
       "      <td>357.0</td>\n",
       "      <td>0.021438</td>\n",
       "      <td>0.016352</td>\n",
       "      <td>0.002252</td>\n",
       "      <td>0.011320</td>\n",
       "      <td>0.01631</td>\n",
       "      <td>0.02589</td>\n",
       "      <td>0.1064</td>\n",
       "    </tr>\n",
       "    <tr>\n",
       "      <th>M</th>\n",
       "      <td>212.0</td>\n",
       "      <td>0.032281</td>\n",
       "      <td>0.018387</td>\n",
       "      <td>0.008422</td>\n",
       "      <td>0.019662</td>\n",
       "      <td>0.02859</td>\n",
       "      <td>0.03891</td>\n",
       "      <td>0.1354</td>\n",
       "    </tr>\n",
       "  </tbody>\n",
       "</table>\n",
       "</div>"
      ],
      "text/plain": [
       "           count      mean       std       min       25%      50%      75%  \\\n",
       "diagnosis                                                                    \n",
       "B          357.0  0.021438  0.016352  0.002252  0.011320  0.01631  0.02589   \n",
       "M          212.0  0.032281  0.018387  0.008422  0.019662  0.02859  0.03891   \n",
       "\n",
       "              max  \n",
       "diagnosis          \n",
       "B          0.1064  \n",
       "M          0.1354  "
      ]
     },
     "execution_count": 349,
     "metadata": {},
     "output_type": "execute_result"
    }
   ],
   "source": [
    "cancer.groupby(cancer.diagnosis)['compactness_mean'].describe()"
   ]
  },
  {
   "cell_type": "markdown",
   "id": "11ce8416",
   "metadata": {},
   "source": [
    "### Review relationship between Diagnosis and Smoothness Mean + Diagnosis + Compactness Mean"
   ]
  },
  {
   "cell_type": "code",
   "execution_count": 350,
   "id": "015f0d57",
   "metadata": {},
   "outputs": [],
   "source": [
    "%matplotlib inline\n",
    "from matplotlib import pyplot as plt\n",
    "import seaborn as sns"
   ]
  },
  {
   "cell_type": "code",
   "execution_count": 351,
   "id": "35ee9c5d",
   "metadata": {},
   "outputs": [
    {
     "data": {
      "image/png": "[encoded data removed]",
      "text/plain": [
       "<Figure size 432x288 with 1 Axes>"
      ]
     },
     "metadata": {
      "needs_background": "light"
     },
     "output_type": "display_data"
    }
   ],
   "source": [
    "ax = sns.boxplot(data = cancer, x= 'diagnosis', y='smoothness_mean')"
   ]
  },
  {
   "cell_type": "code",
   "execution_count": 352,
   "id": "35c84799",
   "metadata": {},
   "outputs": [
    {
     "data": {
      "image/png": "[encoded data removed]",
      "text/plain": [
       "<Figure size 432x288 with 1 Axes>"
      ]
     },
     "metadata": {
      "needs_background": "light"
     },
     "output_type": "display_data"
    }
   ],
   "source": [
    "ax = sns.boxplot(data = cancer, x= 'diagnosis', y='compactness_mean')"
   ]
  },
  {
   "cell_type": "code",
   "execution_count": 353,
   "id": "e13469a8",
   "metadata": {},
   "outputs": [
    {
     "data": {
      "text/html": [
       "<div>\n",
       "<style scoped>\n",
       "    .dataframe tbody tr th:only-of-type {\n",
       "        vertical-align: middle;\n",
       "    }\n",
       "\n",
       "    .dataframe tbody tr th {\n",
       "        vertical-align: top;\n",
       "    }\n",
       "\n",
       "    .dataframe thead tr th {\n",
       "        text-align: left;\n",
       "    }\n",
       "</style>\n",
       "<table border=\"1\" class=\"dataframe\">\n",
       "  <thead>\n",
       "    <tr>\n",
       "      <th></th>\n",
       "      <th colspan=\"2\" halign=\"left\">radius_mean</th>\n",
       "      <th colspan=\"2\" halign=\"left\">texture_mean</th>\n",
       "      <th colspan=\"2\" halign=\"left\">perimeter_mean</th>\n",
       "      <th colspan=\"2\" halign=\"left\">area_mean</th>\n",
       "      <th colspan=\"2\" halign=\"left\">smoothness_mean</th>\n",
       "      <th colspan=\"2\" halign=\"left\">compactness_mean</th>\n",
       "      <th colspan=\"2\" halign=\"left\">concavity_mean</th>\n",
       "      <th colspan=\"2\" halign=\"left\">concave_points_mean</th>\n",
       "      <th colspan=\"2\" halign=\"left\">symmetry_mean</th>\n",
       "      <th colspan=\"2\" halign=\"left\">fractal_dimension_mean</th>\n",
       "    </tr>\n",
       "    <tr>\n",
       "      <th>diagnosis</th>\n",
       "      <th>B</th>\n",
       "      <th>M</th>\n",
       "      <th>B</th>\n",
       "      <th>M</th>\n",
       "      <th>B</th>\n",
       "      <th>M</th>\n",
       "      <th>B</th>\n",
       "      <th>M</th>\n",
       "      <th>B</th>\n",
       "      <th>M</th>\n",
       "      <th>B</th>\n",
       "      <th>M</th>\n",
       "      <th>B</th>\n",
       "      <th>M</th>\n",
       "      <th>B</th>\n",
       "      <th>M</th>\n",
       "      <th>B</th>\n",
       "      <th>M</th>\n",
       "      <th>B</th>\n",
       "      <th>M</th>\n",
       "    </tr>\n",
       "  </thead>\n",
       "  <tbody>\n",
       "    <tr>\n",
       "      <th>0</th>\n",
       "      <td>NaN</td>\n",
       "      <td>17.99</td>\n",
       "      <td>NaN</td>\n",
       "      <td>1001.0</td>\n",
       "      <td>NaN</td>\n",
       "      <td>0.30010</td>\n",
       "      <td>NaN</td>\n",
       "      <td>0.07871</td>\n",
       "      <td>NaN</td>\n",
       "      <td>8.589</td>\n",
       "      <td>NaN</td>\n",
       "      <td>0.04904</td>\n",
       "      <td>NaN</td>\n",
       "      <td>0.03003</td>\n",
       "      <td>NaN</td>\n",
       "      <td>17.33</td>\n",
       "      <td>NaN</td>\n",
       "      <td>0.1622</td>\n",
       "      <td>NaN</td>\n",
       "      <td>0.2654</td>\n",
       "    </tr>\n",
       "    <tr>\n",
       "      <th>1</th>\n",
       "      <td>NaN</td>\n",
       "      <td>20.57</td>\n",
       "      <td>NaN</td>\n",
       "      <td>1326.0</td>\n",
       "      <td>NaN</td>\n",
       "      <td>0.08690</td>\n",
       "      <td>NaN</td>\n",
       "      <td>0.05667</td>\n",
       "      <td>NaN</td>\n",
       "      <td>3.398</td>\n",
       "      <td>NaN</td>\n",
       "      <td>0.01308</td>\n",
       "      <td>NaN</td>\n",
       "      <td>0.01389</td>\n",
       "      <td>NaN</td>\n",
       "      <td>23.41</td>\n",
       "      <td>NaN</td>\n",
       "      <td>0.1238</td>\n",
       "      <td>NaN</td>\n",
       "      <td>0.1860</td>\n",
       "    </tr>\n",
       "    <tr>\n",
       "      <th>2</th>\n",
       "      <td>NaN</td>\n",
       "      <td>19.69</td>\n",
       "      <td>NaN</td>\n",
       "      <td>1203.0</td>\n",
       "      <td>NaN</td>\n",
       "      <td>0.19740</td>\n",
       "      <td>NaN</td>\n",
       "      <td>0.05999</td>\n",
       "      <td>NaN</td>\n",
       "      <td>4.585</td>\n",
       "      <td>NaN</td>\n",
       "      <td>0.04006</td>\n",
       "      <td>NaN</td>\n",
       "      <td>0.02250</td>\n",
       "      <td>NaN</td>\n",
       "      <td>25.53</td>\n",
       "      <td>NaN</td>\n",
       "      <td>0.1444</td>\n",
       "      <td>NaN</td>\n",
       "      <td>0.2430</td>\n",
       "    </tr>\n",
       "    <tr>\n",
       "      <th>3</th>\n",
       "      <td>NaN</td>\n",
       "      <td>11.42</td>\n",
       "      <td>NaN</td>\n",
       "      <td>386.1</td>\n",
       "      <td>NaN</td>\n",
       "      <td>0.24140</td>\n",
       "      <td>NaN</td>\n",
       "      <td>0.09744</td>\n",
       "      <td>NaN</td>\n",
       "      <td>3.445</td>\n",
       "      <td>NaN</td>\n",
       "      <td>0.07458</td>\n",
       "      <td>NaN</td>\n",
       "      <td>0.05963</td>\n",
       "      <td>NaN</td>\n",
       "      <td>26.50</td>\n",
       "      <td>NaN</td>\n",
       "      <td>0.2098</td>\n",
       "      <td>NaN</td>\n",
       "      <td>0.2575</td>\n",
       "    </tr>\n",
       "    <tr>\n",
       "      <th>4</th>\n",
       "      <td>NaN</td>\n",
       "      <td>20.29</td>\n",
       "      <td>NaN</td>\n",
       "      <td>1297.0</td>\n",
       "      <td>NaN</td>\n",
       "      <td>0.19800</td>\n",
       "      <td>NaN</td>\n",
       "      <td>0.05883</td>\n",
       "      <td>NaN</td>\n",
       "      <td>5.438</td>\n",
       "      <td>NaN</td>\n",
       "      <td>0.02461</td>\n",
       "      <td>NaN</td>\n",
       "      <td>0.01756</td>\n",
       "      <td>NaN</td>\n",
       "      <td>16.67</td>\n",
       "      <td>NaN</td>\n",
       "      <td>0.1374</td>\n",
       "      <td>NaN</td>\n",
       "      <td>0.1625</td>\n",
       "    </tr>\n",
       "    <tr>\n",
       "      <th>...</th>\n",
       "      <td>...</td>\n",
       "      <td>...</td>\n",
       "      <td>...</td>\n",
       "      <td>...</td>\n",
       "      <td>...</td>\n",
       "      <td>...</td>\n",
       "      <td>...</td>\n",
       "      <td>...</td>\n",
       "      <td>...</td>\n",
       "      <td>...</td>\n",
       "      <td>...</td>\n",
       "      <td>...</td>\n",
       "      <td>...</td>\n",
       "      <td>...</td>\n",
       "      <td>...</td>\n",
       "      <td>...</td>\n",
       "      <td>...</td>\n",
       "      <td>...</td>\n",
       "      <td>...</td>\n",
       "      <td>...</td>\n",
       "    </tr>\n",
       "    <tr>\n",
       "      <th>564</th>\n",
       "      <td>NaN</td>\n",
       "      <td>21.56</td>\n",
       "      <td>NaN</td>\n",
       "      <td>1479.0</td>\n",
       "      <td>NaN</td>\n",
       "      <td>0.24390</td>\n",
       "      <td>NaN</td>\n",
       "      <td>0.05623</td>\n",
       "      <td>NaN</td>\n",
       "      <td>7.673</td>\n",
       "      <td>NaN</td>\n",
       "      <td>0.02891</td>\n",
       "      <td>NaN</td>\n",
       "      <td>0.01114</td>\n",
       "      <td>NaN</td>\n",
       "      <td>26.40</td>\n",
       "      <td>NaN</td>\n",
       "      <td>0.1410</td>\n",
       "      <td>NaN</td>\n",
       "      <td>0.2216</td>\n",
       "    </tr>\n",
       "    <tr>\n",
       "      <th>565</th>\n",
       "      <td>NaN</td>\n",
       "      <td>20.13</td>\n",
       "      <td>NaN</td>\n",
       "      <td>1261.0</td>\n",
       "      <td>NaN</td>\n",
       "      <td>0.14400</td>\n",
       "      <td>NaN</td>\n",
       "      <td>0.05533</td>\n",
       "      <td>NaN</td>\n",
       "      <td>5.203</td>\n",
       "      <td>NaN</td>\n",
       "      <td>0.02423</td>\n",
       "      <td>NaN</td>\n",
       "      <td>0.01898</td>\n",
       "      <td>NaN</td>\n",
       "      <td>38.25</td>\n",
       "      <td>NaN</td>\n",
       "      <td>0.1166</td>\n",
       "      <td>NaN</td>\n",
       "      <td>0.1628</td>\n",
       "    </tr>\n",
       "    <tr>\n",
       "      <th>566</th>\n",
       "      <td>NaN</td>\n",
       "      <td>16.60</td>\n",
       "      <td>NaN</td>\n",
       "      <td>858.1</td>\n",
       "      <td>NaN</td>\n",
       "      <td>0.09251</td>\n",
       "      <td>NaN</td>\n",
       "      <td>0.05648</td>\n",
       "      <td>NaN</td>\n",
       "      <td>3.425</td>\n",
       "      <td>NaN</td>\n",
       "      <td>0.03731</td>\n",
       "      <td>NaN</td>\n",
       "      <td>0.01318</td>\n",
       "      <td>NaN</td>\n",
       "      <td>34.12</td>\n",
       "      <td>NaN</td>\n",
       "      <td>0.1139</td>\n",
       "      <td>NaN</td>\n",
       "      <td>0.1418</td>\n",
       "    </tr>\n",
       "    <tr>\n",
       "      <th>567</th>\n",
       "      <td>NaN</td>\n",
       "      <td>20.60</td>\n",
       "      <td>NaN</td>\n",
       "      <td>1265.0</td>\n",
       "      <td>NaN</td>\n",
       "      <td>0.35140</td>\n",
       "      <td>NaN</td>\n",
       "      <td>0.07016</td>\n",
       "      <td>NaN</td>\n",
       "      <td>5.772</td>\n",
       "      <td>NaN</td>\n",
       "      <td>0.06158</td>\n",
       "      <td>NaN</td>\n",
       "      <td>0.02324</td>\n",
       "      <td>NaN</td>\n",
       "      <td>39.42</td>\n",
       "      <td>NaN</td>\n",
       "      <td>0.1650</td>\n",
       "      <td>NaN</td>\n",
       "      <td>0.2650</td>\n",
       "    </tr>\n",
       "    <tr>\n",
       "      <th>568</th>\n",
       "      <td>7.76</td>\n",
       "      <td>NaN</td>\n",
       "      <td>181.0</td>\n",
       "      <td>NaN</td>\n",
       "      <td>0.0</td>\n",
       "      <td>NaN</td>\n",
       "      <td>0.05884</td>\n",
       "      <td>NaN</td>\n",
       "      <td>2.548</td>\n",
       "      <td>NaN</td>\n",
       "      <td>0.00466</td>\n",
       "      <td>NaN</td>\n",
       "      <td>0.02676</td>\n",
       "      <td>NaN</td>\n",
       "      <td>30.37</td>\n",
       "      <td>NaN</td>\n",
       "      <td>0.08996</td>\n",
       "      <td>NaN</td>\n",
       "      <td>0.0</td>\n",
       "      <td>NaN</td>\n",
       "    </tr>\n",
       "  </tbody>\n",
       "</table>\n",
       "<p>569 rows × 20 columns</p>\n",
       "</div>"
      ],
      "text/plain": [
       "          radius_mean        texture_mean         perimeter_mean           \\\n",
       "diagnosis           B      M            B       M              B        M   \n",
       "0                 NaN  17.99          NaN  1001.0            NaN  0.30010   \n",
       "1                 NaN  20.57          NaN  1326.0            NaN  0.08690   \n",
       "2                 NaN  19.69          NaN  1203.0            NaN  0.19740   \n",
       "3                 NaN  11.42          NaN   386.1            NaN  0.24140   \n",
       "4                 NaN  20.29          NaN  1297.0            NaN  0.19800   \n",
       "..                ...    ...          ...     ...            ...      ...   \n",
       "564               NaN  21.56          NaN  1479.0            NaN  0.24390   \n",
       "565               NaN  20.13          NaN  1261.0            NaN  0.14400   \n",
       "566               NaN  16.60          NaN   858.1            NaN  0.09251   \n",
       "567               NaN  20.60          NaN  1265.0            NaN  0.35140   \n",
       "568              7.76    NaN        181.0     NaN            0.0      NaN   \n",
       "\n",
       "          area_mean          smoothness_mean        compactness_mean           \\\n",
       "diagnosis         B        M               B      M                B        M   \n",
       "0               NaN  0.07871             NaN  8.589              NaN  0.04904   \n",
       "1               NaN  0.05667             NaN  3.398              NaN  0.01308   \n",
       "2               NaN  0.05999             NaN  4.585              NaN  0.04006   \n",
       "3               NaN  0.09744             NaN  3.445              NaN  0.07458   \n",
       "4               NaN  0.05883             NaN  5.438              NaN  0.02461   \n",
       "..              ...      ...             ...    ...              ...      ...   \n",
       "564             NaN  0.05623             NaN  7.673              NaN  0.02891   \n",
       "565             NaN  0.05533             NaN  5.203              NaN  0.02423   \n",
       "566             NaN  0.05648             NaN  3.425              NaN  0.03731   \n",
       "567             NaN  0.07016             NaN  5.772              NaN  0.06158   \n",
       "568         0.05884      NaN           2.548    NaN          0.00466      NaN   \n",
       "\n",
       "          concavity_mean          concave_points_mean        symmetry_mean  \\\n",
       "diagnosis              B        M                   B      M             B   \n",
       "0                    NaN  0.03003                 NaN  17.33           NaN   \n",
       "1                    NaN  0.01389                 NaN  23.41           NaN   \n",
       "2                    NaN  0.02250                 NaN  25.53           NaN   \n",
       "3                    NaN  0.05963                 NaN  26.50           NaN   \n",
       "4                    NaN  0.01756                 NaN  16.67           NaN   \n",
       "..                   ...      ...                 ...    ...           ...   \n",
       "564                  NaN  0.01114                 NaN  26.40           NaN   \n",
       "565                  NaN  0.01898                 NaN  38.25           NaN   \n",
       "566                  NaN  0.01318                 NaN  34.12           NaN   \n",
       "567                  NaN  0.02324                 NaN  39.42           NaN   \n",
       "568              0.02676      NaN               30.37    NaN       0.08996   \n",
       "\n",
       "                  fractal_dimension_mean          \n",
       "diagnosis       M                      B       M  \n",
       "0          0.1622                    NaN  0.2654  \n",
       "1          0.1238                    NaN  0.1860  \n",
       "2          0.1444                    NaN  0.2430  \n",
       "3          0.2098                    NaN  0.2575  \n",
       "4          0.1374                    NaN  0.1625  \n",
       "..            ...                    ...     ...  \n",
       "564        0.1410                    NaN  0.2216  \n",
       "565        0.1166                    NaN  0.1628  \n",
       "566        0.1139                    NaN  0.1418  \n",
       "567        0.1650                    NaN  0.2650  \n",
       "568           NaN                    0.0     NaN  \n",
       "\n",
       "[569 rows x 20 columns]"
      ]
     },
     "execution_count": 353,
     "metadata": {},
     "output_type": "execute_result"
    }
   ],
   "source": [
    "cancer.pivot(columns='diagnosis')"
   ]
  },
  {
   "cell_type": "markdown",
   "id": "0bc7ebfe",
   "metadata": {},
   "source": [
    "### FIND STRONG CORRELATION RELATIONSHIP(S)"
   ]
  },
  {
   "cell_type": "code",
   "execution_count": 354,
   "id": "32167aba",
   "metadata": {},
   "outputs": [
    {
     "data": {
      "text/html": [
       "<div>\n",
       "<style scoped>\n",
       "    .dataframe tbody tr th:only-of-type {\n",
       "        vertical-align: middle;\n",
       "    }\n",
       "\n",
       "    .dataframe tbody tr th {\n",
       "        vertical-align: top;\n",
       "    }\n",
       "\n",
       "    .dataframe thead th {\n",
       "        text-align: right;\n",
       "    }\n",
       "</style>\n",
       "<table border=\"1\" class=\"dataframe\">\n",
       "  <thead>\n",
       "    <tr style=\"text-align: right;\">\n",
       "      <th></th>\n",
       "      <th>radius_mean</th>\n",
       "      <th>texture_mean</th>\n",
       "      <th>perimeter_mean</th>\n",
       "      <th>area_mean</th>\n",
       "      <th>smoothness_mean</th>\n",
       "      <th>compactness_mean</th>\n",
       "      <th>concavity_mean</th>\n",
       "      <th>concave_points_mean</th>\n",
       "      <th>symmetry_mean</th>\n",
       "      <th>fractal_dimension_mean</th>\n",
       "    </tr>\n",
       "  </thead>\n",
       "  <tbody>\n",
       "    <tr>\n",
       "      <th>radius_mean</th>\n",
       "      <td>1.000000</td>\n",
       "      <td>0.987357</td>\n",
       "      <td>0.676764</td>\n",
       "      <td>-0.311631</td>\n",
       "      <td>0.674172</td>\n",
       "      <td>0.206000</td>\n",
       "      <td>-0.104321</td>\n",
       "      <td>0.297008</td>\n",
       "      <td>0.119616</td>\n",
       "      <td>0.744214</td>\n",
       "    </tr>\n",
       "    <tr>\n",
       "      <th>texture_mean</th>\n",
       "      <td>0.987357</td>\n",
       "      <td>1.000000</td>\n",
       "      <td>0.685983</td>\n",
       "      <td>-0.283110</td>\n",
       "      <td>0.726628</td>\n",
       "      <td>0.212583</td>\n",
       "      <td>-0.072497</td>\n",
       "      <td>0.287489</td>\n",
       "      <td>0.123523</td>\n",
       "      <td>0.722017</td>\n",
       "    </tr>\n",
       "    <tr>\n",
       "      <th>perimeter_mean</th>\n",
       "      <td>0.676764</td>\n",
       "      <td>0.685983</td>\n",
       "      <td>1.000000</td>\n",
       "      <td>0.336783</td>\n",
       "      <td>0.660391</td>\n",
       "      <td>0.670279</td>\n",
       "      <td>0.178009</td>\n",
       "      <td>0.299879</td>\n",
       "      <td>0.448822</td>\n",
       "      <td>0.861323</td>\n",
       "    </tr>\n",
       "    <tr>\n",
       "      <th>area_mean</th>\n",
       "      <td>-0.311631</td>\n",
       "      <td>-0.283110</td>\n",
       "      <td>0.336783</td>\n",
       "      <td>1.000000</td>\n",
       "      <td>0.039830</td>\n",
       "      <td>0.559837</td>\n",
       "      <td>0.345007</td>\n",
       "      <td>-0.051269</td>\n",
       "      <td>0.504942</td>\n",
       "      <td>0.175325</td>\n",
       "    </tr>\n",
       "    <tr>\n",
       "      <th>smoothness_mean</th>\n",
       "      <td>0.674172</td>\n",
       "      <td>0.726628</td>\n",
       "      <td>0.660391</td>\n",
       "      <td>0.039830</td>\n",
       "      <td>1.000000</td>\n",
       "      <td>0.416322</td>\n",
       "      <td>0.266487</td>\n",
       "      <td>0.200371</td>\n",
       "      <td>0.130054</td>\n",
       "      <td>0.554897</td>\n",
       "    </tr>\n",
       "    <tr>\n",
       "      <th>compactness_mean</th>\n",
       "      <td>0.206000</td>\n",
       "      <td>0.212583</td>\n",
       "      <td>0.670279</td>\n",
       "      <td>0.559837</td>\n",
       "      <td>0.416322</td>\n",
       "      <td>1.000000</td>\n",
       "      <td>0.394713</td>\n",
       "      <td>0.143003</td>\n",
       "      <td>0.227394</td>\n",
       "      <td>0.483208</td>\n",
       "    </tr>\n",
       "    <tr>\n",
       "      <th>concavity_mean</th>\n",
       "      <td>-0.104321</td>\n",
       "      <td>-0.072497</td>\n",
       "      <td>0.178009</td>\n",
       "      <td>0.345007</td>\n",
       "      <td>0.266487</td>\n",
       "      <td>0.394713</td>\n",
       "      <td>1.000000</td>\n",
       "      <td>-0.077473</td>\n",
       "      <td>-0.012662</td>\n",
       "      <td>-0.030413</td>\n",
       "    </tr>\n",
       "    <tr>\n",
       "      <th>concave_points_mean</th>\n",
       "      <td>0.297008</td>\n",
       "      <td>0.287489</td>\n",
       "      <td>0.299879</td>\n",
       "      <td>-0.051269</td>\n",
       "      <td>0.200371</td>\n",
       "      <td>0.143003</td>\n",
       "      <td>-0.077473</td>\n",
       "      <td>1.000000</td>\n",
       "      <td>0.225429</td>\n",
       "      <td>0.359755</td>\n",
       "    </tr>\n",
       "    <tr>\n",
       "      <th>symmetry_mean</th>\n",
       "      <td>0.119616</td>\n",
       "      <td>0.123523</td>\n",
       "      <td>0.448822</td>\n",
       "      <td>0.504942</td>\n",
       "      <td>0.130054</td>\n",
       "      <td>0.227394</td>\n",
       "      <td>-0.012662</td>\n",
       "      <td>0.225429</td>\n",
       "      <td>1.000000</td>\n",
       "      <td>0.547691</td>\n",
       "    </tr>\n",
       "    <tr>\n",
       "      <th>fractal_dimension_mean</th>\n",
       "      <td>0.744214</td>\n",
       "      <td>0.722017</td>\n",
       "      <td>0.861323</td>\n",
       "      <td>0.175325</td>\n",
       "      <td>0.554897</td>\n",
       "      <td>0.483208</td>\n",
       "      <td>-0.030413</td>\n",
       "      <td>0.359755</td>\n",
       "      <td>0.547691</td>\n",
       "      <td>1.000000</td>\n",
       "    </tr>\n",
       "  </tbody>\n",
       "</table>\n",
       "</div>"
      ],
      "text/plain": [
       "                        radius_mean  texture_mean  perimeter_mean  area_mean  \\\n",
       "radius_mean                1.000000      0.987357        0.676764  -0.311631   \n",
       "texture_mean               0.987357      1.000000        0.685983  -0.283110   \n",
       "perimeter_mean             0.676764      0.685983        1.000000   0.336783   \n",
       "area_mean                 -0.311631     -0.283110        0.336783   1.000000   \n",
       "smoothness_mean            0.674172      0.726628        0.660391   0.039830   \n",
       "compactness_mean           0.206000      0.212583        0.670279   0.559837   \n",
       "concavity_mean            -0.104321     -0.072497        0.178009   0.345007   \n",
       "concave_points_mean        0.297008      0.287489        0.299879  -0.051269   \n",
       "symmetry_mean              0.119616      0.123523        0.448822   0.504942   \n",
       "fractal_dimension_mean     0.744214      0.722017        0.861323   0.175325   \n",
       "\n",
       "                        smoothness_mean  compactness_mean  concavity_mean  \\\n",
       "radius_mean                    0.674172          0.206000       -0.104321   \n",
       "texture_mean                   0.726628          0.212583       -0.072497   \n",
       "perimeter_mean                 0.660391          0.670279        0.178009   \n",
       "area_mean                      0.039830          0.559837        0.345007   \n",
       "smoothness_mean                1.000000          0.416322        0.266487   \n",
       "compactness_mean               0.416322          1.000000        0.394713   \n",
       "concavity_mean                 0.266487          0.394713        1.000000   \n",
       "concave_points_mean            0.200371          0.143003       -0.077473   \n",
       "symmetry_mean                  0.130054          0.227394       -0.012662   \n",
       "fractal_dimension_mean         0.554897          0.483208       -0.030413   \n",
       "\n",
       "                        concave_points_mean  symmetry_mean  \\\n",
       "radius_mean                        0.297008       0.119616   \n",
       "texture_mean                       0.287489       0.123523   \n",
       "perimeter_mean                     0.299879       0.448822   \n",
       "area_mean                         -0.051269       0.504942   \n",
       "smoothness_mean                    0.200371       0.130054   \n",
       "compactness_mean                   0.143003       0.227394   \n",
       "concavity_mean                    -0.077473      -0.012662   \n",
       "concave_points_mean                1.000000       0.225429   \n",
       "symmetry_mean                      0.225429       1.000000   \n",
       "fractal_dimension_mean             0.359755       0.547691   \n",
       "\n",
       "                        fractal_dimension_mean  \n",
       "radius_mean                           0.744214  \n",
       "texture_mean                          0.722017  \n",
       "perimeter_mean                        0.861323  \n",
       "area_mean                             0.175325  \n",
       "smoothness_mean                       0.554897  \n",
       "compactness_mean                      0.483208  \n",
       "concavity_mean                       -0.030413  \n",
       "concave_points_mean                   0.359755  \n",
       "symmetry_mean                         0.547691  \n",
       "fractal_dimension_mean                1.000000  "
      ]
     },
     "execution_count": 354,
     "metadata": {},
     "output_type": "execute_result"
    }
   ],
   "source": [
    "cancer.corr()"
   ]
  },
  {
   "cell_type": "markdown",
   "id": "1ef3d967",
   "metadata": {},
   "source": [
    "### Review Correlation in a Heatmap"
   ]
  },
  {
   "cell_type": "code",
   "execution_count": 355,
   "id": "cbe9d3c4",
   "metadata": {},
   "outputs": [
    {
     "data": {
      "text/plain": [
       "<AxesSubplot:>"
      ]
     },
     "execution_count": 355,
     "metadata": {},
     "output_type": "execute_result"
    },
    {
     "data": {
      "image/png": "[encoded data removed]",
      "text/plain": [
       "<Figure size 1008x1008 with 2 Axes>"
      ]
     },
     "metadata": {
      "needs_background": "light"
     },
     "output_type": "display_data"
    }
   ],
   "source": [
    "import matplotlib.pyplot as plt\n",
    "import seaborn as sns\n",
    "\n",
    "corr = cancer.corr()\n",
    "plt.figure(figsize=(14,14))\n",
    "sns.heatmap(corr, cbar = True,  square = True)"
   ]
  },
  {
   "cell_type": "markdown",
   "id": "52c9f528",
   "metadata": {},
   "source": [
    "### REVIEW 2 VARIABLES WITH HIGH CORRELATION WITH MALIGNANT DIAGNOSIS"
   ]
  },
  {
   "cell_type": "code",
   "execution_count": 356,
   "id": "19e65bb9",
   "metadata": {},
   "outputs": [
    {
     "data": {
      "image/png": "[encoded data removed]",
      "text/plain": [
       "<Figure size 432x288 with 1 Axes>"
      ]
     },
     "metadata": {
      "needs_background": "light"
     },
     "output_type": "display_data"
    }
   ],
   "source": [
    "# Review relationship between malignant diagnosis and radius mean)\n",
    "\n",
    "ax = sns.boxplot(data = cancer, x= 'diagnosis', y='radius_mean')\n",
    "\n",
    "# Relationship suggests that a higher radius mean tends to indicate a malignant diagnosis"
   ]
  },
  {
   "cell_type": "code",
   "execution_count": 357,
   "id": "770138a7",
   "metadata": {},
   "outputs": [
    {
     "data": {
      "image/png": "[encoded data removed]",
      "text/plain": [
       "<Figure size 432x288 with 1 Axes>"
      ]
     },
     "metadata": {
      "needs_background": "light"
     },
     "output_type": "display_data"
    }
   ],
   "source": [
    "ax = sns.boxplot(data = cancer, x= 'diagnosis', y='fractal_dimension_mean')\n",
    "\n",
    "# Relationship suggests that a higher texture mean tends to indicate a malignant diagnosis"
   ]
  },
  {
   "cell_type": "markdown",
   "id": "f71274c5",
   "metadata": {},
   "source": [
    "## ENCODE DIAGNOSIS FEATURE"
   ]
  },
  {
   "cell_type": "code",
   "execution_count": 358,
   "id": "066213c6",
   "metadata": {},
   "outputs": [
    {
     "data": {
      "text/html": [
       "<div>\n",
       "<style scoped>\n",
       "    .dataframe tbody tr th:only-of-type {\n",
       "        vertical-align: middle;\n",
       "    }\n",
       "\n",
       "    .dataframe tbody tr th {\n",
       "        vertical-align: top;\n",
       "    }\n",
       "\n",
       "    .dataframe thead th {\n",
       "        text-align: right;\n",
       "    }\n",
       "</style>\n",
       "<table border=\"1\" class=\"dataframe\">\n",
       "  <thead>\n",
       "    <tr style=\"text-align: right;\">\n",
       "      <th></th>\n",
       "      <th>radius_mean</th>\n",
       "      <th>texture_mean</th>\n",
       "      <th>perimeter_mean</th>\n",
       "      <th>area_mean</th>\n",
       "      <th>smoothness_mean</th>\n",
       "      <th>compactness_mean</th>\n",
       "      <th>concavity_mean</th>\n",
       "      <th>concave_points_mean</th>\n",
       "      <th>symmetry_mean</th>\n",
       "      <th>fractal_dimension_mean</th>\n",
       "      <th>diagnosis_B</th>\n",
       "      <th>diagnosis_M</th>\n",
       "    </tr>\n",
       "  </thead>\n",
       "  <tbody>\n",
       "    <tr>\n",
       "      <th>0</th>\n",
       "      <td>17.99</td>\n",
       "      <td>1001.0</td>\n",
       "      <td>0.3001</td>\n",
       "      <td>0.07871</td>\n",
       "      <td>8.589</td>\n",
       "      <td>0.04904</td>\n",
       "      <td>0.03003</td>\n",
       "      <td>17.33</td>\n",
       "      <td>0.1622</td>\n",
       "      <td>0.2654</td>\n",
       "      <td>0</td>\n",
       "      <td>1</td>\n",
       "    </tr>\n",
       "    <tr>\n",
       "      <th>1</th>\n",
       "      <td>20.57</td>\n",
       "      <td>1326.0</td>\n",
       "      <td>0.0869</td>\n",
       "      <td>0.05667</td>\n",
       "      <td>3.398</td>\n",
       "      <td>0.01308</td>\n",
       "      <td>0.01389</td>\n",
       "      <td>23.41</td>\n",
       "      <td>0.1238</td>\n",
       "      <td>0.1860</td>\n",
       "      <td>0</td>\n",
       "      <td>1</td>\n",
       "    </tr>\n",
       "    <tr>\n",
       "      <th>2</th>\n",
       "      <td>19.69</td>\n",
       "      <td>1203.0</td>\n",
       "      <td>0.1974</td>\n",
       "      <td>0.05999</td>\n",
       "      <td>4.585</td>\n",
       "      <td>0.04006</td>\n",
       "      <td>0.02250</td>\n",
       "      <td>25.53</td>\n",
       "      <td>0.1444</td>\n",
       "      <td>0.2430</td>\n",
       "      <td>0</td>\n",
       "      <td>1</td>\n",
       "    </tr>\n",
       "    <tr>\n",
       "      <th>3</th>\n",
       "      <td>11.42</td>\n",
       "      <td>386.1</td>\n",
       "      <td>0.2414</td>\n",
       "      <td>0.09744</td>\n",
       "      <td>3.445</td>\n",
       "      <td>0.07458</td>\n",
       "      <td>0.05963</td>\n",
       "      <td>26.50</td>\n",
       "      <td>0.2098</td>\n",
       "      <td>0.2575</td>\n",
       "      <td>0</td>\n",
       "      <td>1</td>\n",
       "    </tr>\n",
       "    <tr>\n",
       "      <th>4</th>\n",
       "      <td>20.29</td>\n",
       "      <td>1297.0</td>\n",
       "      <td>0.1980</td>\n",
       "      <td>0.05883</td>\n",
       "      <td>5.438</td>\n",
       "      <td>0.02461</td>\n",
       "      <td>0.01756</td>\n",
       "      <td>16.67</td>\n",
       "      <td>0.1374</td>\n",
       "      <td>0.1625</td>\n",
       "      <td>0</td>\n",
       "      <td>1</td>\n",
       "    </tr>\n",
       "  </tbody>\n",
       "</table>\n",
       "</div>"
      ],
      "text/plain": [
       "   radius_mean  texture_mean  perimeter_mean  area_mean  smoothness_mean  \\\n",
       "0        17.99        1001.0          0.3001    0.07871            8.589   \n",
       "1        20.57        1326.0          0.0869    0.05667            3.398   \n",
       "2        19.69        1203.0          0.1974    0.05999            4.585   \n",
       "3        11.42         386.1          0.2414    0.09744            3.445   \n",
       "4        20.29        1297.0          0.1980    0.05883            5.438   \n",
       "\n",
       "   compactness_mean  concavity_mean  concave_points_mean  symmetry_mean  \\\n",
       "0           0.04904         0.03003                17.33         0.1622   \n",
       "1           0.01308         0.01389                23.41         0.1238   \n",
       "2           0.04006         0.02250                25.53         0.1444   \n",
       "3           0.07458         0.05963                26.50         0.2098   \n",
       "4           0.02461         0.01756                16.67         0.1374   \n",
       "\n",
       "   fractal_dimension_mean  diagnosis_B  diagnosis_M  \n",
       "0                  0.2654            0            1  \n",
       "1                  0.1860            0            1  \n",
       "2                  0.2430            0            1  \n",
       "3                  0.2575            0            1  \n",
       "4                  0.1625            0            1  "
      ]
     },
     "execution_count": 358,
     "metadata": {},
     "output_type": "execute_result"
    }
   ],
   "source": [
    "cancer = pd.get_dummies(cancer)\n",
    "cancer.head()"
   ]
  },
  {
   "cell_type": "markdown",
   "id": "e258c8b2",
   "metadata": {},
   "source": [
    "### SPLIT INDEPENDENT & DEPENDENT VARIABLES"
   ]
  },
  {
   "cell_type": "code",
   "execution_count": 359,
   "id": "5019cc14",
   "metadata": {},
   "outputs": [],
   "source": [
    "#IMPORT TRAIN & TEST SPLIT FROM SKLEARN\n",
    "\n",
    "from sklearn.model_selection import train_test_split "
   ]
  },
  {
   "cell_type": "code",
   "execution_count": 360,
   "id": "40a91a2e",
   "metadata": {},
   "outputs": [
    {
     "data": {
      "text/html": [
       "<div>\n",
       "<style scoped>\n",
       "    .dataframe tbody tr th:only-of-type {\n",
       "        vertical-align: middle;\n",
       "    }\n",
       "\n",
       "    .dataframe tbody tr th {\n",
       "        vertical-align: top;\n",
       "    }\n",
       "\n",
       "    .dataframe thead th {\n",
       "        text-align: right;\n",
       "    }\n",
       "</style>\n",
       "<table border=\"1\" class=\"dataframe\">\n",
       "  <thead>\n",
       "    <tr style=\"text-align: right;\">\n",
       "      <th></th>\n",
       "      <th>radius_mean</th>\n",
       "      <th>texture_mean</th>\n",
       "      <th>perimeter_mean</th>\n",
       "      <th>area_mean</th>\n",
       "      <th>smoothness_mean</th>\n",
       "      <th>compactness_mean</th>\n",
       "      <th>concavity_mean</th>\n",
       "      <th>concave_points_mean</th>\n",
       "      <th>symmetry_mean</th>\n",
       "      <th>fractal_dimension_mean</th>\n",
       "    </tr>\n",
       "  </thead>\n",
       "  <tbody>\n",
       "    <tr>\n",
       "      <th>0</th>\n",
       "      <td>17.99</td>\n",
       "      <td>1001.0</td>\n",
       "      <td>0.3001</td>\n",
       "      <td>0.07871</td>\n",
       "      <td>8.589</td>\n",
       "      <td>0.04904</td>\n",
       "      <td>0.03003</td>\n",
       "      <td>17.33</td>\n",
       "      <td>0.1622</td>\n",
       "      <td>0.2654</td>\n",
       "    </tr>\n",
       "    <tr>\n",
       "      <th>1</th>\n",
       "      <td>20.57</td>\n",
       "      <td>1326.0</td>\n",
       "      <td>0.0869</td>\n",
       "      <td>0.05667</td>\n",
       "      <td>3.398</td>\n",
       "      <td>0.01308</td>\n",
       "      <td>0.01389</td>\n",
       "      <td>23.41</td>\n",
       "      <td>0.1238</td>\n",
       "      <td>0.1860</td>\n",
       "    </tr>\n",
       "    <tr>\n",
       "      <th>2</th>\n",
       "      <td>19.69</td>\n",
       "      <td>1203.0</td>\n",
       "      <td>0.1974</td>\n",
       "      <td>0.05999</td>\n",
       "      <td>4.585</td>\n",
       "      <td>0.04006</td>\n",
       "      <td>0.02250</td>\n",
       "      <td>25.53</td>\n",
       "      <td>0.1444</td>\n",
       "      <td>0.2430</td>\n",
       "    </tr>\n",
       "    <tr>\n",
       "      <th>3</th>\n",
       "      <td>11.42</td>\n",
       "      <td>386.1</td>\n",
       "      <td>0.2414</td>\n",
       "      <td>0.09744</td>\n",
       "      <td>3.445</td>\n",
       "      <td>0.07458</td>\n",
       "      <td>0.05963</td>\n",
       "      <td>26.50</td>\n",
       "      <td>0.2098</td>\n",
       "      <td>0.2575</td>\n",
       "    </tr>\n",
       "    <tr>\n",
       "      <th>4</th>\n",
       "      <td>20.29</td>\n",
       "      <td>1297.0</td>\n",
       "      <td>0.1980</td>\n",
       "      <td>0.05883</td>\n",
       "      <td>5.438</td>\n",
       "      <td>0.02461</td>\n",
       "      <td>0.01756</td>\n",
       "      <td>16.67</td>\n",
       "      <td>0.1374</td>\n",
       "      <td>0.1625</td>\n",
       "    </tr>\n",
       "  </tbody>\n",
       "</table>\n",
       "</div>"
      ],
      "text/plain": [
       "   radius_mean  texture_mean  perimeter_mean  area_mean  smoothness_mean  \\\n",
       "0        17.99        1001.0          0.3001    0.07871            8.589   \n",
       "1        20.57        1326.0          0.0869    0.05667            3.398   \n",
       "2        19.69        1203.0          0.1974    0.05999            4.585   \n",
       "3        11.42         386.1          0.2414    0.09744            3.445   \n",
       "4        20.29        1297.0          0.1980    0.05883            5.438   \n",
       "\n",
       "   compactness_mean  concavity_mean  concave_points_mean  symmetry_mean  \\\n",
       "0           0.04904         0.03003                17.33         0.1622   \n",
       "1           0.01308         0.01389                23.41         0.1238   \n",
       "2           0.04006         0.02250                25.53         0.1444   \n",
       "3           0.07458         0.05963                26.50         0.2098   \n",
       "4           0.02461         0.01756                16.67         0.1374   \n",
       "\n",
       "   fractal_dimension_mean  \n",
       "0                  0.2654  \n",
       "1                  0.1860  \n",
       "2                  0.2430  \n",
       "3                  0.2575  \n",
       "4                  0.1625  "
      ]
     },
     "execution_count": 360,
     "metadata": {},
     "output_type": "execute_result"
    }
   ],
   "source": [
    "# STORE INDEPENDENT VARIABLES INTO FEATURES \n",
    "# STORE DEPENDENT VARIABLE INTO LABELS\n",
    "\n",
    "features = cancer.drop('diagnosis_M', axis=1)\n",
    "features = features.drop('diagnosis_B', axis=1)\n",
    "labels = cancer['diagnosis_M']\n",
    "\n",
    "features.head()"
   ]
  },
  {
   "cell_type": "code",
   "execution_count": 361,
   "id": "d299d998",
   "metadata": {},
   "outputs": [
    {
     "data": {
      "text/plain": [
       "0    1\n",
       "1    1\n",
       "2    1\n",
       "3    1\n",
       "4    1\n",
       "Name: diagnosis_M, dtype: uint8"
      ]
     },
     "execution_count": 361,
     "metadata": {},
     "output_type": "execute_result"
    }
   ],
   "source": [
    "labels.head()"
   ]
  },
  {
   "cell_type": "markdown",
   "id": "39a12e0d",
   "metadata": {},
   "source": [
    "### SPLIT DATA SET INTO TRAIN, VALIDATION & TEST"
   ]
  },
  {
   "cell_type": "code",
   "execution_count": 362,
   "id": "75e89ab6",
   "metadata": {},
   "outputs": [
    {
     "name": "stdout",
     "output_type": "stream",
     "text": [
      "0.6\n",
      "0.2\n",
      "0.2\n"
     ]
    }
   ],
   "source": [
    "x_train, x_test, y_train, y_test = train_test_split(features, labels, test_size= 0.4, random_state=42)\n",
    "x_val, x_test, y_val, y_test = train_test_split(x_test, y_test, test_size=0.5, random_state=42)\n",
    "\n",
    "for dataset in (y_train, y_val, y_test):\n",
    "    print(round(len(dataset) / len(labels), 2))"
   ]
  },
  {
   "cell_type": "markdown",
   "id": "dc6fcfc6",
   "metadata": {},
   "source": [
    "## MODELLING"
   ]
  },
  {
   "cell_type": "markdown",
   "id": "ad26dd4b",
   "metadata": {},
   "source": [
    "### MODEL 1: USING LOGISTIC REGRESSION TO PREDICT MALIGNANT CANCER"
   ]
  },
  {
   "cell_type": "code",
   "execution_count": 363,
   "id": "0307425f",
   "metadata": {},
   "outputs": [
    {
     "data": {
      "text/plain": [
       "['__class__',\n",
       " '__delattr__',\n",
       " '__dict__',\n",
       " '__dir__',\n",
       " '__doc__',\n",
       " '__eq__',\n",
       " '__format__',\n",
       " '__ge__',\n",
       " '__getattribute__',\n",
       " '__getstate__',\n",
       " '__gt__',\n",
       " '__hash__',\n",
       " '__init__',\n",
       " '__init_subclass__',\n",
       " '__le__',\n",
       " '__lt__',\n",
       " '__module__',\n",
       " '__ne__',\n",
       " '__new__',\n",
       " '__reduce__',\n",
       " '__reduce_ex__',\n",
       " '__repr__',\n",
       " '__setattr__',\n",
       " '__setstate__',\n",
       " '__sizeof__',\n",
       " '__str__',\n",
       " '__subclasshook__',\n",
       " '__weakref__',\n",
       " '_check_n_features',\n",
       " '_estimator_type',\n",
       " '_get_param_names',\n",
       " '_get_tags',\n",
       " '_more_tags',\n",
       " '_predict_proba_lr',\n",
       " '_repr_html_',\n",
       " '_repr_html_inner',\n",
       " '_repr_mimebundle_',\n",
       " '_validate_data',\n",
       " 'decision_function',\n",
       " 'densify',\n",
       " 'fit',\n",
       " 'get_params',\n",
       " 'predict',\n",
       " 'predict_log_proba',\n",
       " 'predict_proba',\n",
       " 'score',\n",
       " 'set_params',\n",
       " 'sparsify']"
      ]
     },
     "execution_count": 363,
     "metadata": {},
     "output_type": "execute_result"
    }
   ],
   "source": [
    "# import libraries and packages\n",
    "import joblib\n",
    "from sklearn.linear_model import LogisticRegression\n",
    "from sklearn.model_selection import GridSearchCV\n",
    "import warnings\n",
    "warnings.filterwarnings('ignore', category=FutureWarning)\n",
    "warnings.filterwarnings('ignore', category=DeprecationWarning)\n",
    "\n",
    "def print_results(results):\n",
    "    print('BEST HYPERPARAMETERS: {}\\n'.format(results.best_params_))\n",
    "          \n",
    "    means = results.cv_results_['mean_test_score']\n",
    "    stds = results.cv_results_['std_test_score']\n",
    "    for mean, std, params in zip(means, stds, results.cv_results_['params']):\n",
    "          print('{} (+/-{}) for {}'.format(round(mean, 3), round(std *2, 3), params))\n",
    "\n",
    "dir(LogisticRegression)"
   ]
  },
  {
   "cell_type": "code",
   "execution_count": 364,
   "id": "0088ef0a",
   "metadata": {},
   "outputs": [
    {
     "name": "stderr",
     "output_type": "stream",
     "text": [
      "/Users/arsedianivanurrahman/opt/anaconda3/lib/python3.8/site-packages/sklearn/linear_model/_logistic.py:763: ConvergenceWarning: lbfgs failed to converge (status=1):\n",
      "STOP: TOTAL NO. of ITERATIONS REACHED LIMIT.\n",
      "\n",
      "Increase the number of iterations (max_iter) or scale the data as shown in:\n",
      "    https://scikit-learn.org/stable/modules/preprocessing.html\n",
      "Please also refer to the documentation for alternative solver options:\n",
      "    https://scikit-learn.org/stable/modules/linear_model.html#logistic-regression\n",
      "  n_iter_i = _check_optimize_result(\n",
      "/Users/arsedianivanurrahman/opt/anaconda3/lib/python3.8/site-packages/sklearn/linear_model/_logistic.py:763: ConvergenceWarning: lbfgs failed to converge (status=1):\n",
      "STOP: TOTAL NO. of ITERATIONS REACHED LIMIT.\n",
      "\n",
      "Increase the number of iterations (max_iter) or scale the data as shown in:\n",
      "    https://scikit-learn.org/stable/modules/preprocessing.html\n",
      "Please also refer to the documentation for alternative solver options:\n",
      "    https://scikit-learn.org/stable/modules/linear_model.html#logistic-regression\n",
      "  n_iter_i = _check_optimize_result(\n",
      "/Users/arsedianivanurrahman/opt/anaconda3/lib/python3.8/site-packages/sklearn/linear_model/_logistic.py:763: ConvergenceWarning: lbfgs failed to converge (status=1):\n",
      "STOP: TOTAL NO. of ITERATIONS REACHED LIMIT.\n",
      "\n",
      "Increase the number of iterations (max_iter) or scale the data as shown in:\n",
      "    https://scikit-learn.org/stable/modules/preprocessing.html\n",
      "Please also refer to the documentation for alternative solver options:\n",
      "    https://scikit-learn.org/stable/modules/linear_model.html#logistic-regression\n",
      "  n_iter_i = _check_optimize_result(\n",
      "/Users/arsedianivanurrahman/opt/anaconda3/lib/python3.8/site-packages/sklearn/linear_model/_logistic.py:763: ConvergenceWarning: lbfgs failed to converge (status=1):\n",
      "STOP: TOTAL NO. of ITERATIONS REACHED LIMIT.\n",
      "\n",
      "Increase the number of iterations (max_iter) or scale the data as shown in:\n",
      "    https://scikit-learn.org/stable/modules/preprocessing.html\n",
      "Please also refer to the documentation for alternative solver options:\n",
      "    https://scikit-learn.org/stable/modules/linear_model.html#logistic-regression\n",
      "  n_iter_i = _check_optimize_result(\n",
      "/Users/arsedianivanurrahman/opt/anaconda3/lib/python3.8/site-packages/sklearn/linear_model/_logistic.py:763: ConvergenceWarning: lbfgs failed to converge (status=1):\n",
      "STOP: TOTAL NO. of ITERATIONS REACHED LIMIT.\n",
      "\n",
      "Increase the number of iterations (max_iter) or scale the data as shown in:\n",
      "    https://scikit-learn.org/stable/modules/preprocessing.html\n",
      "Please also refer to the documentation for alternative solver options:\n",
      "    https://scikit-learn.org/stable/modules/linear_model.html#logistic-regression\n",
      "  n_iter_i = _check_optimize_result(\n",
      "/Users/arsedianivanurrahman/opt/anaconda3/lib/python3.8/site-packages/sklearn/linear_model/_logistic.py:763: ConvergenceWarning: lbfgs failed to converge (status=1):\n",
      "STOP: TOTAL NO. of ITERATIONS REACHED LIMIT.\n",
      "\n",
      "Increase the number of iterations (max_iter) or scale the data as shown in:\n",
      "    https://scikit-learn.org/stable/modules/preprocessing.html\n",
      "Please also refer to the documentation for alternative solver options:\n",
      "    https://scikit-learn.org/stable/modules/linear_model.html#logistic-regression\n",
      "  n_iter_i = _check_optimize_result(\n",
      "/Users/arsedianivanurrahman/opt/anaconda3/lib/python3.8/site-packages/sklearn/linear_model/_logistic.py:763: ConvergenceWarning: lbfgs failed to converge (status=1):\n",
      "STOP: TOTAL NO. of ITERATIONS REACHED LIMIT.\n",
      "\n",
      "Increase the number of iterations (max_iter) or scale the data as shown in:\n",
      "    https://scikit-learn.org/stable/modules/preprocessing.html\n",
      "Please also refer to the documentation for alternative solver options:\n",
      "    https://scikit-learn.org/stable/modules/linear_model.html#logistic-regression\n",
      "  n_iter_i = _check_optimize_result(\n",
      "/Users/arsedianivanurrahman/opt/anaconda3/lib/python3.8/site-packages/sklearn/linear_model/_logistic.py:763: ConvergenceWarning: lbfgs failed to converge (status=1):\n",
      "STOP: TOTAL NO. of ITERATIONS REACHED LIMIT.\n",
      "\n",
      "Increase the number of iterations (max_iter) or scale the data as shown in:\n",
      "    https://scikit-learn.org/stable/modules/preprocessing.html\n",
      "Please also refer to the documentation for alternative solver options:\n",
      "    https://scikit-learn.org/stable/modules/linear_model.html#logistic-regression\n",
      "  n_iter_i = _check_optimize_result(\n",
      "/Users/arsedianivanurrahman/opt/anaconda3/lib/python3.8/site-packages/sklearn/linear_model/_logistic.py:763: ConvergenceWarning: lbfgs failed to converge (status=1):\n",
      "STOP: TOTAL NO. of ITERATIONS REACHED LIMIT.\n",
      "\n",
      "Increase the number of iterations (max_iter) or scale the data as shown in:\n",
      "    https://scikit-learn.org/stable/modules/preprocessing.html\n",
      "Please also refer to the documentation for alternative solver options:\n",
      "    https://scikit-learn.org/stable/modules/linear_model.html#logistic-regression\n",
      "  n_iter_i = _check_optimize_result(\n",
      "/Users/arsedianivanurrahman/opt/anaconda3/lib/python3.8/site-packages/sklearn/linear_model/_logistic.py:763: ConvergenceWarning: lbfgs failed to converge (status=1):\n",
      "STOP: TOTAL NO. of ITERATIONS REACHED LIMIT.\n",
      "\n",
      "Increase the number of iterations (max_iter) or scale the data as shown in:\n",
      "    https://scikit-learn.org/stable/modules/preprocessing.html\n",
      "Please also refer to the documentation for alternative solver options:\n",
      "    https://scikit-learn.org/stable/modules/linear_model.html#logistic-regression\n",
      "  n_iter_i = _check_optimize_result(\n",
      "/Users/arsedianivanurrahman/opt/anaconda3/lib/python3.8/site-packages/sklearn/linear_model/_logistic.py:763: ConvergenceWarning: lbfgs failed to converge (status=1):\n",
      "STOP: TOTAL NO. of ITERATIONS REACHED LIMIT.\n",
      "\n",
      "Increase the number of iterations (max_iter) or scale the data as shown in:\n",
      "    https://scikit-learn.org/stable/modules/preprocessing.html\n",
      "Please also refer to the documentation for alternative solver options:\n",
      "    https://scikit-learn.org/stable/modules/linear_model.html#logistic-regression\n",
      "  n_iter_i = _check_optimize_result(\n",
      "/Users/arsedianivanurrahman/opt/anaconda3/lib/python3.8/site-packages/sklearn/linear_model/_logistic.py:763: ConvergenceWarning: lbfgs failed to converge (status=1):\n",
      "STOP: TOTAL NO. of ITERATIONS REACHED LIMIT.\n",
      "\n",
      "Increase the number of iterations (max_iter) or scale the data as shown in:\n",
      "    https://scikit-learn.org/stable/modules/preprocessing.html\n",
      "Please also refer to the documentation for alternative solver options:\n",
      "    https://scikit-learn.org/stable/modules/linear_model.html#logistic-regression\n",
      "  n_iter_i = _check_optimize_result(\n",
      "/Users/arsedianivanurrahman/opt/anaconda3/lib/python3.8/site-packages/sklearn/linear_model/_logistic.py:763: ConvergenceWarning: lbfgs failed to converge (status=1):\n",
      "STOP: TOTAL NO. of ITERATIONS REACHED LIMIT.\n",
      "\n",
      "Increase the number of iterations (max_iter) or scale the data as shown in:\n",
      "    https://scikit-learn.org/stable/modules/preprocessing.html\n",
      "Please also refer to the documentation for alternative solver options:\n",
      "    https://scikit-learn.org/stable/modules/linear_model.html#logistic-regression\n",
      "  n_iter_i = _check_optimize_result(\n",
      "/Users/arsedianivanurrahman/opt/anaconda3/lib/python3.8/site-packages/sklearn/linear_model/_logistic.py:763: ConvergenceWarning: lbfgs failed to converge (status=1):\n",
      "STOP: TOTAL NO. of ITERATIONS REACHED LIMIT.\n",
      "\n",
      "Increase the number of iterations (max_iter) or scale the data as shown in:\n",
      "    https://scikit-learn.org/stable/modules/preprocessing.html\n",
      "Please also refer to the documentation for alternative solver options:\n",
      "    https://scikit-learn.org/stable/modules/linear_model.html#logistic-regression\n",
      "  n_iter_i = _check_optimize_result(\n",
      "/Users/arsedianivanurrahman/opt/anaconda3/lib/python3.8/site-packages/sklearn/linear_model/_logistic.py:763: ConvergenceWarning: lbfgs failed to converge (status=1):\n",
      "STOP: TOTAL NO. of ITERATIONS REACHED LIMIT.\n",
      "\n",
      "Increase the number of iterations (max_iter) or scale the data as shown in:\n",
      "    https://scikit-learn.org/stable/modules/preprocessing.html\n",
      "Please also refer to the documentation for alternative solver options:\n",
      "    https://scikit-learn.org/stable/modules/linear_model.html#logistic-regression\n",
      "  n_iter_i = _check_optimize_result(\n"
     ]
    },
    {
     "name": "stdout",
     "output_type": "stream",
     "text": [
      "BEST HYPERPARAMETERS: {'C': 1000}\n",
      "\n",
      "0.897 (+/-0.093) for {'C': 0.001}\n",
      "0.906 (+/-0.089) for {'C': 0.01}\n",
      "0.906 (+/-0.085) for {'C': 1}\n",
      "0.938 (+/-0.057) for {'C': 10}\n",
      "0.947 (+/-0.04) for {'C': 100}\n",
      "0.95 (+/-0.039) for {'C': 1000}\n"
     ]
    },
    {
     "name": "stderr",
     "output_type": "stream",
     "text": [
      "/Users/arsedianivanurrahman/opt/anaconda3/lib/python3.8/site-packages/sklearn/linear_model/_logistic.py:763: ConvergenceWarning: lbfgs failed to converge (status=1):\n",
      "STOP: TOTAL NO. of ITERATIONS REACHED LIMIT.\n",
      "\n",
      "Increase the number of iterations (max_iter) or scale the data as shown in:\n",
      "    https://scikit-learn.org/stable/modules/preprocessing.html\n",
      "Please also refer to the documentation for alternative solver options:\n",
      "    https://scikit-learn.org/stable/modules/linear_model.html#logistic-regression\n",
      "  n_iter_i = _check_optimize_result(\n",
      "/Users/arsedianivanurrahman/opt/anaconda3/lib/python3.8/site-packages/sklearn/linear_model/_logistic.py:763: ConvergenceWarning: lbfgs failed to converge (status=1):\n",
      "STOP: TOTAL NO. of ITERATIONS REACHED LIMIT.\n",
      "\n",
      "Increase the number of iterations (max_iter) or scale the data as shown in:\n",
      "    https://scikit-learn.org/stable/modules/preprocessing.html\n",
      "Please also refer to the documentation for alternative solver options:\n",
      "    https://scikit-learn.org/stable/modules/linear_model.html#logistic-regression\n",
      "  n_iter_i = _check_optimize_result(\n",
      "/Users/arsedianivanurrahman/opt/anaconda3/lib/python3.8/site-packages/sklearn/linear_model/_logistic.py:763: ConvergenceWarning: lbfgs failed to converge (status=1):\n",
      "STOP: TOTAL NO. of ITERATIONS REACHED LIMIT.\n",
      "\n",
      "Increase the number of iterations (max_iter) or scale the data as shown in:\n",
      "    https://scikit-learn.org/stable/modules/preprocessing.html\n",
      "Please also refer to the documentation for alternative solver options:\n",
      "    https://scikit-learn.org/stable/modules/linear_model.html#logistic-regression\n",
      "  n_iter_i = _check_optimize_result(\n"
     ]
    }
   ],
   "source": [
    "lr = LogisticRegression()\n",
    "parameters = {\n",
    "    'C': [0.001, 0.01, 1, 10, 100, 1000]\n",
    "}\n",
    "\n",
    "cv = GridSearchCV(lr, parameters, cv=5)\n",
    "cv.fit(x_train, y_train.values.ravel())\n",
    "\n",
    "\n",
    "print_results(cv)"
   ]
  },
  {
   "cell_type": "code",
   "execution_count": 365,
   "id": "4a7cae78",
   "metadata": {},
   "outputs": [
    {
     "data": {
      "text/plain": [
       "LogisticRegression(C=1000)"
      ]
     },
     "execution_count": 365,
     "metadata": {},
     "output_type": "execute_result"
    }
   ],
   "source": [
    "cv.best_estimator_"
   ]
  },
  {
   "cell_type": "code",
   "execution_count": 366,
   "id": "9c4ec008",
   "metadata": {},
   "outputs": [
    {
     "data": {
      "text/plain": [
       "['LR_model.pkl']"
      ]
     },
     "execution_count": 366,
     "metadata": {},
     "output_type": "execute_result"
    }
   ],
   "source": [
    "joblib.dump(cv.best_estimator_,'LR_model.pkl')"
   ]
  },
  {
   "cell_type": "code",
   "execution_count": 367,
   "id": "a4fe0962",
   "metadata": {},
   "outputs": [
    {
     "data": {
      "image/png": "[encoded data removed]",
      "text/plain": [
       "<Figure size 432x288 with 1 Axes>"
      ]
     },
     "metadata": {
      "needs_background": "light"
     },
     "output_type": "display_data"
    }
   ],
   "source": [
    "# FIND THE MOST PREDICTIVE FEATURE\n",
    "\n",
    "importance = model.feature_importances_\n",
    "importance\n",
    "\n",
    "feature_importance = pd.Series(importance, index = x_train.columns)\n",
    "feature_importance.sort_values().plot(kind = 'bar')\n",
    "plt.ylabel('Importance');"
   ]
  },
  {
   "cell_type": "markdown",
   "id": "bb4c0b39",
   "metadata": {},
   "source": [
    "### MODEL 2: USING SUPPORT VECTOR MACHINE (SVM) TO PREDICT MALIGNANT CANCER"
   ]
  },
  {
   "cell_type": "code",
   "execution_count": 368,
   "id": "d63a7215",
   "metadata": {},
   "outputs": [
    {
     "data": {
      "text/plain": [
       "SVC()"
      ]
     },
     "execution_count": 368,
     "metadata": {},
     "output_type": "execute_result"
    }
   ],
   "source": [
    "# IMPORT LIBRARIES AND PACKAGES\n",
    "\n",
    "from sklearn.svm import SVC\n",
    "\n",
    "SVC()"
   ]
  },
  {
   "cell_type": "code",
   "execution_count": 369,
   "id": "f49fb832",
   "metadata": {},
   "outputs": [
    {
     "data": {
      "text/plain": [
       "['__abstractmethods__',\n",
       " '__class__',\n",
       " '__delattr__',\n",
       " '__dict__',\n",
       " '__dir__',\n",
       " '__doc__',\n",
       " '__eq__',\n",
       " '__format__',\n",
       " '__ge__',\n",
       " '__getattribute__',\n",
       " '__getstate__',\n",
       " '__gt__',\n",
       " '__hash__',\n",
       " '__init__',\n",
       " '__init_subclass__',\n",
       " '__le__',\n",
       " '__lt__',\n",
       " '__module__',\n",
       " '__ne__',\n",
       " '__new__',\n",
       " '__reduce__',\n",
       " '__reduce_ex__',\n",
       " '__repr__',\n",
       " '__setattr__',\n",
       " '__setstate__',\n",
       " '__sizeof__',\n",
       " '__str__',\n",
       " '__subclasshook__',\n",
       " '__weakref__',\n",
       " '_abc_impl',\n",
       " '_check_n_features',\n",
       " '_check_proba',\n",
       " '_compute_kernel',\n",
       " '_decision_function',\n",
       " '_dense_decision_function',\n",
       " '_dense_fit',\n",
       " '_dense_predict',\n",
       " '_dense_predict_proba',\n",
       " '_estimator_type',\n",
       " '_get_coef',\n",
       " '_get_param_names',\n",
       " '_get_tags',\n",
       " '_impl',\n",
       " '_more_tags',\n",
       " '_pairwise',\n",
       " '_predict_log_proba',\n",
       " '_predict_proba',\n",
       " '_repr_html_',\n",
       " '_repr_html_inner',\n",
       " '_repr_mimebundle_',\n",
       " '_sparse_decision_function',\n",
       " '_sparse_fit',\n",
       " '_sparse_kernels',\n",
       " '_sparse_predict',\n",
       " '_sparse_predict_proba',\n",
       " '_validate_data',\n",
       " '_validate_for_predict',\n",
       " '_validate_targets',\n",
       " '_warn_from_fit_status',\n",
       " 'coef_',\n",
       " 'decision_function',\n",
       " 'fit',\n",
       " 'get_params',\n",
       " 'n_support_',\n",
       " 'predict',\n",
       " 'predict_log_proba',\n",
       " 'predict_proba',\n",
       " 'probA_',\n",
       " 'probB_',\n",
       " 'score',\n",
       " 'set_params']"
      ]
     },
     "execution_count": 369,
     "metadata": {},
     "output_type": "execute_result"
    }
   ],
   "source": [
    "dir(SVC)"
   ]
  },
  {
   "cell_type": "code",
   "execution_count": 370,
   "id": "f0f05719",
   "metadata": {},
   "outputs": [
    {
     "name": "stdout",
     "output_type": "stream",
     "text": [
      "BEST HYPERPARAMETERS: {'C': 10, 'kernel': 'linear'}\n",
      "\n",
      "0.903 (+/-0.069) for {'C': 0.1, 'kernel': 'linear'}\n",
      "0.845 (+/-0.073) for {'C': 0.1, 'kernel': 'rbf'}\n",
      "0.918 (+/-0.061) for {'C': 1, 'kernel': 'linear'}\n",
      "0.856 (+/-0.07) for {'C': 1, 'kernel': 'rbf'}\n",
      "0.933 (+/-0.04) for {'C': 10, 'kernel': 'linear'}\n",
      "0.868 (+/-0.085) for {'C': 10, 'kernel': 'rbf'}\n"
     ]
    }
   ],
   "source": [
    "svc = SVC()\n",
    "parameters = {\n",
    "    'kernel': ['linear', 'rbf'],\n",
    "    'C': [0.1, 1, 10]\n",
    "}\n",
    "\n",
    "cv = GridSearchCV(svc, parameters, cv=5)\n",
    "cv.fit(x_train, y_train.values.ravel())\n",
    "\n",
    "print_results(cv)"
   ]
  },
  {
   "cell_type": "code",
   "execution_count": 371,
   "id": "e601ab8e",
   "metadata": {},
   "outputs": [
    {
     "data": {
      "text/plain": [
       "SVC(C=10, kernel='linear')"
      ]
     },
     "execution_count": 371,
     "metadata": {},
     "output_type": "execute_result"
    }
   ],
   "source": [
    "cv.best_estimator_"
   ]
  },
  {
   "cell_type": "code",
   "execution_count": 372,
   "id": "264b0472",
   "metadata": {},
   "outputs": [
    {
     "data": {
      "text/plain": [
       "['SVM_model.pkl']"
      ]
     },
     "execution_count": 372,
     "metadata": {},
     "output_type": "execute_result"
    }
   ],
   "source": [
    "# EXPORT MODEL OUT\n",
    "\n",
    "joblib.dump(cv.best_estimator_, 'SVM_model.pkl')"
   ]
  },
  {
   "cell_type": "code",
   "execution_count": 373,
   "id": "7a8acfc1",
   "metadata": {},
   "outputs": [
    {
     "data": {
      "image/png": "[encoded data removed]",
      "text/plain": [
       "<Figure size 432x288 with 1 Axes>"
      ]
     },
     "metadata": {
      "needs_background": "light"
     },
     "output_type": "display_data"
    }
   ],
   "source": [
    "# FIND THE MOST PREDICTIVE FEATURE\n",
    "\n",
    "importance = model.feature_importances_\n",
    "importance\n",
    "\n",
    "feature_importance = pd.Series(importance, index = x_train.columns)\n",
    "feature_importance.sort_values().plot(kind = 'bar')\n",
    "plt.ylabel('Importance');"
   ]
  },
  {
   "cell_type": "markdown",
   "id": "caf7285c",
   "metadata": {},
   "source": [
    "### MODEL 3: USING RANDOM FORREST TO PREDICT MALIGNANT CANCER"
   ]
  },
  {
   "cell_type": "code",
   "execution_count": 374,
   "id": "805ae10f",
   "metadata": {},
   "outputs": [
    {
     "data": {
      "text/plain": [
       "array([0.94202899, 0.92647059, 0.97058824, 0.94117647, 0.95588235])"
      ]
     },
     "execution_count": 374,
     "metadata": {},
     "output_type": "execute_result"
    }
   ],
   "source": [
    "# IMPORT LIBRARIES AND PACKAGES\n",
    "\n",
    "from sklearn.ensemble import RandomForestClassifier\n",
    "from sklearn.model_selection import cross_val_score\n",
    "\n",
    "rf = RandomForestClassifier()\n",
    "\n",
    "scores = cross_val_score(rf, x_train, y_train.values.ravel(), cv=5)\n",
    "scores"
   ]
  },
  {
   "cell_type": "code",
   "execution_count": 375,
   "id": "0f782699",
   "metadata": {},
   "outputs": [
    {
     "name": "stdout",
     "output_type": "stream",
     "text": [
      "BEST HYPERPARAMETERS: {'max_depth': 10, 'n_estimators': 50}\n",
      "\n",
      "0.918 (+/-0.054) for {'max_depth': 2, 'n_estimators': 5}\n",
      "0.93 (+/-0.033) for {'max_depth': 2, 'n_estimators': 50}\n",
      "0.933 (+/-0.039) for {'max_depth': 2, 'n_estimators': 100}\n",
      "0.927 (+/-0.062) for {'max_depth': 10, 'n_estimators': 5}\n",
      "0.953 (+/-0.029) for {'max_depth': 10, 'n_estimators': 50}\n",
      "0.944 (+/-0.029) for {'max_depth': 10, 'n_estimators': 100}\n",
      "0.938 (+/-0.047) for {'max_depth': 20, 'n_estimators': 5}\n",
      "0.938 (+/-0.034) for {'max_depth': 20, 'n_estimators': 50}\n",
      "0.947 (+/-0.029) for {'max_depth': 20, 'n_estimators': 100}\n",
      "0.941 (+/-0.019) for {'max_depth': None, 'n_estimators': 5}\n",
      "0.953 (+/-0.029) for {'max_depth': None, 'n_estimators': 50}\n",
      "0.95 (+/-0.023) for {'max_depth': None, 'n_estimators': 100}\n"
     ]
    }
   ],
   "source": [
    "rf = RandomForestClassifier()\n",
    "parameters = {\n",
    "    'n_estimators': [5, 50, 100],\n",
    "    'max_depth': [2, 10, 20, None]\n",
    "}\n",
    "\n",
    "cv = GridSearchCV(rf, parameters, cv=5)\n",
    "cv.fit(x_train, y_train.values.ravel())\n",
    "\n",
    "print_results(cv)"
   ]
  },
  {
   "cell_type": "code",
   "execution_count": 376,
   "id": "049c4062",
   "metadata": {},
   "outputs": [
    {
     "data": {
      "text/plain": [
       "RandomForestClassifier(max_depth=10, n_estimators=50)"
      ]
     },
     "execution_count": 376,
     "metadata": {},
     "output_type": "execute_result"
    }
   ],
   "source": [
    "cv.best_estimator_"
   ]
  },
  {
   "cell_type": "code",
   "execution_count": 377,
   "id": "ca667fec",
   "metadata": {},
   "outputs": [
    {
     "data": {
      "text/plain": [
       "['RF_model.pkl']"
      ]
     },
     "execution_count": 377,
     "metadata": {},
     "output_type": "execute_result"
    }
   ],
   "source": [
    "# EXPORT MODEL OUT\n",
    "\n",
    "joblib.dump(cv.best_estimator_, 'RF_model.pkl')\n"
   ]
  },
  {
   "cell_type": "code",
   "execution_count": 378,
   "id": "962ff474",
   "metadata": {},
   "outputs": [
    {
     "data": {
      "text/plain": [
       "array([0.02499225, 0.12741666, 0.01224909, 0.        , 0.00301866,\n",
       "       0.        , 0.02692812, 0.06552968, 0.03618941, 0.70367612])"
      ]
     },
     "execution_count": 378,
     "metadata": {},
     "output_type": "execute_result"
    }
   ],
   "source": [
    "# FIND THE MOST PREDICTIVE FEATURE\n",
    "\n",
    "importance = model.feature_importances_\n",
    "importance"
   ]
  },
  {
   "cell_type": "code",
   "execution_count": 379,
   "id": "10c6063a",
   "metadata": {},
   "outputs": [
    {
     "data": {
      "image/png": "[encoded data removed]",
      "text/plain": [
       "<Figure size 432x288 with 1 Axes>"
      ]
     },
     "metadata": {
      "needs_background": "light"
     },
     "output_type": "display_data"
    }
   ],
   "source": [
    "feature_importance = pd.Series(importance, index = x_train.columns)\n",
    "feature_importance.sort_values().plot(kind = 'bar')\n",
    "plt.ylabel('Importance');"
   ]
  },
  {
   "cell_type": "markdown",
   "id": "bd087200",
   "metadata": {},
   "source": [
    "### EVALUATE THE MODELS"
   ]
  },
  {
   "cell_type": "code",
   "execution_count": 380,
   "id": "9154d232",
   "metadata": {},
   "outputs": [],
   "source": [
    "# IMPORT LIBRARIES & PACKAGES\n",
    "from sklearn.metrics import accuracy_score, precision_score, recall_score\n",
    "from time import time\n",
    "\n",
    "## CREATE A MODEL DICTIONARY\n",
    "\n",
    "models = {}\n",
    "\n",
    "for mdl in ['LR', 'SVM', 'RF']:\n",
    "    models[mdl] = joblib.load('{}_model.pkl'.format(mdl))"
   ]
  },
  {
   "cell_type": "code",
   "execution_count": 381,
   "id": "a356bd2e",
   "metadata": {},
   "outputs": [
    {
     "data": {
      "text/plain": [
       "{'LR': LogisticRegression(C=1000),\n",
       " 'SVM': SVC(C=10, kernel='linear'),\n",
       " 'RF': RandomForestClassifier(max_depth=10, n_estimators=50)}"
      ]
     },
     "execution_count": 381,
     "metadata": {},
     "output_type": "execute_result"
    }
   ],
   "source": [
    "models"
   ]
  },
  {
   "cell_type": "code",
   "execution_count": 382,
   "id": "83e7008b",
   "metadata": {},
   "outputs": [],
   "source": [
    "# CREATE A FUNCTION TO EVALUATE MODELS\n",
    "\n",
    "def evaluate_model(name, model, features, labels):\n",
    "    start = time()\n",
    "    pred = model.predict(features)\n",
    "    end = time()\n",
    "    accuracy = round(accuracy_score(labels, pred), 3)\n",
    "    precision = round(precision_score(labels, pred), 3)\n",
    "    recall = round(recall_score(labels, pred), 3)\n",
    "    print('{} -- Accuracy: {} / Precision: {} / Recall: {} / Latency: {}ms'.format(name,\n",
    "                                                                                   accuracy,\n",
    "                                                                                   precision,\n",
    "                                                                                   recall,\n",
    "                                                                                   round((end - start)*1000, 1)))"
   ]
  },
  {
   "cell_type": "code",
   "execution_count": 383,
   "id": "9708f86a",
   "metadata": {},
   "outputs": [
    {
     "name": "stdout",
     "output_type": "stream",
     "text": [
      "LR -- Accuracy: 0.982 / Precision: 1.0 / Recall: 0.952 / Latency: 1.7ms\n",
      "SVM -- Accuracy: 0.974 / Precision: 1.0 / Recall: 0.929 / Latency: 2.1ms\n",
      "RF -- Accuracy: 0.965 / Precision: 0.952 / Recall: 0.952 / Latency: 8.7ms\n"
     ]
    }
   ],
   "source": [
    "# Evaluate Models on Validation Set\n",
    "\n",
    "for name, mdl in models.items():\n",
    "    evaluate_model(name, mdl, x_val, y_val)"
   ]
  },
  {
   "cell_type": "code",
   "execution_count": 384,
   "id": "b0f71227",
   "metadata": {},
   "outputs": [
    {
     "name": "stdout",
     "output_type": "stream",
     "text": [
      "LR -- Accuracy: 0.965 / Precision: 0.925 / Recall: 0.974 / Latency: 1.7ms\n",
      "SVM -- Accuracy: 0.974 / Precision: 0.949 / Recall: 0.974 / Latency: 2.0ms\n",
      "RF -- Accuracy: 0.965 / Precision: 0.947 / Recall: 0.947 / Latency: 8.6ms\n"
     ]
    }
   ],
   "source": [
    "# Evaluate Models on Test Set\n",
    "\n",
    "for name, mdl in models.items():\n",
    "    evaluate_model(name, mdl, x_test, y_test)"
   ]
  },
  {
   "cell_type": "markdown",
   "id": "5451af3a",
   "metadata": {},
   "source": [
    "## EXPLANATION"
   ]
  },
  {
   "cell_type": "markdown",
   "id": "00683e22",
   "metadata": {},
   "source": [
    "### TECHNICAL AUDIENCES\n",
    "\n",
    "- LR model was only tuned for C hyperparameter. C is set to 1000, both lambda and regularization are low. This is due to high complexity. Therefore, the model is more likely to overfit.\n",
    "- LR model is only used as an initial benchmark. But, not expected to perform the best due to \"short & fat data\" \n",
    "- SVM model appears to be the most suitable. And model evaluation evidently shows. This is due to the \"short & fat data\"\n",
    "- SVM model was tuned for C hyperparamater and Kernel trick. C is set at 10. \n",
    "- SVM model latency is slower than LR model, as expected. However, SVM produces the highest accuracy, precision, and recall.\n",
    "- Both LR and SVM models, identified fractal dimension as the most predictive variable\n",
    "- Further steps to take: experiment with other Ensemble models such as Decision Tree, Boosting"
   ]
  },
  {
   "cell_type": "markdown",
   "id": "8db9a556",
   "metadata": {},
   "source": [
    "### NON-TECHNICAL AUDIENCES\n",
    "\n",
    "- The 1st model was built using Logistic Regression. Logistic regression comes from the statistical world. And is used to determine factors that contribute to malignant or benign diagnosis. Which falls under the binary classification problem\n",
    "- Logistic regression is perfect to create the initial benchmark for binary classification problem. As it does not require high computing power\n",
    "- Logistic regression is not expected to perform best on this data set due to a high feature-to-row ratio. There are a high number of columns and features to consider\n",
    "- the Logistic Regression model was tuned for C Hyperparameter. C hyperparameter indicates how closely the model fits to the training data. C is set to 1000, a high number which indicates the model is more likely to overfit\n",
    "\n",
    "- Support Vector Machine (SVM) is a classifier that finds the optimal line separating two classes whilst maximises the margin between the two\n",
    "- Support Vector Model was expected to perform better than Logistic Regression Model. Evidently, SVM model performed better in accuracy, precision, recall. However, underperformed LR model in latency as it requires more computing power\n",
    "- Support Vector Model perfoms best when dealing with high ratio of feature-to-row data. That is, the data set contains a high number of columns and complex relationships\n",
    "- Both Logistic Regression and SVM models identified fractal dimension as the most predictive variable."
   ]
  },
  {
   "cell_type": "markdown",
   "id": "4073a03b",
   "metadata": {},
   "source": [
    "# TASK 2"
   ]
  },
  {
   "cell_type": "markdown",
   "id": "89133e8e",
   "metadata": {},
   "source": [
    "### Student Sample 1"
   ]
  },
  {
   "cell_type": "code",
   "execution_count": null,
   "id": "bd77dae9",
   "metadata": {},
   "outputs": [],
   "source": [
    "#!/usr/bin/env python\n",
    "\n",
    "import pandas as pd\n",
    "import numpy as np\n",
    "from sklearn import LinearRegression\n",
    "from sklearn.cross_validation import cross_val_score\n",
    "\n",
    "# Load data\n",
    "d = pd.read_csv('../data/train.csv')\n",
    "\n",
    "\n",
    "# Setup data for prediction\n",
    "x1 = data.SalaryNormalized \n",
    "\n",
    "x2 = pd.get_dummies(data.ContractType) \n",
    "\n",
    "# Setup model\n",
    "model = LinearRegression() \n",
    "\n",
    "# Evaluate model\n",
    "from sklearn.cross_validation import cross_val_score\n",
    "from sklearn.cross_validation import train_test_split\n",
    "scores = cross_val_score(model, x2, x1, cv=1, scoring='mean_absolute_error')\n",
    "print(scores.mean())"
   ]
  },
  {
   "cell_type": "markdown",
   "id": "e6a55660",
   "metadata": {},
   "source": [
    "## Feedback\n",
    "\n",
    "### 1. Code\n",
    "\n",
    "- **Style & Naming Convention**: When creating a dataframe, a clear naming convention is imperative to ensure code readibility. A letter d is not a suitable naming convention for a data frame\n",
    "- **Function for repetitive task**: Evaluating a model is typically a repetitive task, therefore is best to create a function that can be used repetitively \n",
    "- **Library Usage**: It appears that student attempted to use normalisation, however there is no indication that the appropriate normalisation library has been imported such as sklearn's preprocessing\n",
    "\n",
    "\n",
    "### 2. Methodology\n",
    "\n",
    "- **Data setup - normalisation**: When setting up and preparing data, best to show how normalisation was performed\n",
    "\n",
    "- **Data setup - general info & statistical summary**: When setting up and preparing data, best to start with reviewing general information and statistical summary of the data set\n",
    "\n",
    "- **Data setup - missing values**: When setting up and preparing data, best to check for missing values in the features and if any,  treat missing values appropriately\n",
    "\n",
    "- **Data setup - clean categorical variables**: When setting up and preparing data, best to review categorical variables and the distribution before encoding\n",
    "\n",
    "- **Modelling Methodology**:\n",
    "- **Model Evaluation**:\n",
    "\n",
    "### 3. Conceptual Understanding\n",
    "\n",
    "- **Data exploration stage**: When working on a data science or machine learning project, it is imperative that we follow every stages prudently, starting with data collection, exploration, preparation, modelling, and evaluation. It appears that the exploration stage was skipped altogether by the student. The data exploration stage is crucial in uncovering any issues in the data set and developing early understanding of the data to uncover early insights such as  correlations that may exist or casuality.\n",
    "\n",
    "- **Data Preparation - Splitting data into train, validation & test**: When working on a data science or machine learning project, it is imperative that split the full data set into train, validation and test subsets. Therefore, creating dedicated subsets for the purposes of training, validation and testing.\n",
    "\n",
    "- **Data Preparation - Splitting the independent & dependant variables**: The data preparation process skipped an important process of identifying and splitting the independent from dependant variables\n",
    "\n",
    "- **Modelling - Hyperparameters Tuning**: Hyperparameter tuning is an important step in the modelling stage. And it was skipped. Hyperparameter tuning helps address the problems of model overfitting and underfitting. \n",
    "\n",
    "- **Modelling - Cross-Validation**: Cross validation is best to be set >1. The premise of cross-validation is to divide full data set into subsets so that the subsets can be used to test and train the model multiple times.\n"
   ]
  },
  {
   "cell_type": "markdown",
   "id": "0fcc2545",
   "metadata": {},
   "source": [
    "## Student Sample 2"
   ]
  },
  {
   "cell_type": "code",
   "execution_count": null,
   "id": "be08811a",
   "metadata": {},
   "outputs": [],
   "source": [
    "#!/usr/bin/env python\n",
    "\n",
    "import pandas as pd\n",
    "import numpy as np\n",
    "from sklearn import LinearRegression\n",
    "from sklearn.cross_validation import cross_val_score\n",
    "\n",
    "# Load data\n",
    "d = pd.read_csv('../data/train.csv')\n",
    "\n",
    "\n",
    "# Setup data for prediction\n",
    "x1 = data.SalaryNormalized\n",
    "x2 = pd.get_dummies(data.ContractType)\n",
    "\n",
    "# Setup model\n",
    "model = LinearRegression()\n",
    "\n",
    "# Evaluate model\n",
    "from sklearn.cross_validation import cross_val_score\n",
    "from sklearn.cross_validation import train_test_split\n",
    "scores = cross_val_score(model, x2, x1, cv=1, scoring='mean_absolute_error')\n",
    "print(scores.mean())"
   ]
  },
  {
   "cell_type": "markdown",
   "id": "240f35da",
   "metadata": {},
   "source": [
    "## Feedback\n",
    "\n",
    "### 1. Code\n",
    "\n",
    "- **Style & Naming Convention**: When creating a dataframe, a clear naming convention is imperative to ensure code readibility. A letter d is not a suitable naming convention for a data frame\n",
    "- **Function for repetitive task**: Evaluating a model is typically a repetitive task, therefore is best to create a function that can be used repetitively \n",
    "- **Library Usage**: It appears that student attempted to use normalisation, however there is no indication that the appropriate normalisation library has been imported such as sklearn's preprocessing\n",
    "\n",
    "\n",
    "### 2. Methodology\n",
    "\n",
    "- **Data setup - normalisation**: When setting up and preparing data, best to show how normalisation was performed\n",
    "\n",
    "- **Data setup - general info & statistical summary**: When setting up and preparing data, best to start with reviewing general information and statistical summary of the data set\n",
    "\n",
    "- **Data setup - missing values**: When setting up and preparing data, best to check for missing values in the features and if any,  treat missing values appropriately\n",
    "\n",
    "- **Data setup - clean categorical variables**: When setting up and preparing data, best to review categorical variables and the distribution before encoding\n",
    "\n",
    "- **Modelling Methodology**:\n",
    "- **Model Evaluation**:\n",
    "\n",
    "### 3. Conceptual Understanding\n",
    "\n",
    "- **Data exploration stage**: When working on a data science or machine learning project, it is imperative that we follow every stages prudently, starting with data collection, exploration, preparation, modelling, and evaluation. It appears that the exploration stage was skipped altogether by the student. The data exploration stage is crucial in uncovering any issues in the data set and developing early understanding of the data to uncover early insights such as  correlations that may exist.\n",
    "\n",
    "- **Splitting data into train, validation & test**: When working on a data science or machine learning project, it is imperative that split the full data set into train, validation and test subsets. "
   ]
  },
  {
   "cell_type": "code",
   "execution_count": null,
   "id": "02871c86",
   "metadata": {},
   "outputs": [],
   "source": []
  }
 ],
 "metadata": {
  "kernelspec": {
   "display_name": "Python 3",
   "language": "python",
   "name": "python3"
  },
  "language_info": {
   "codemirror_mode": {
    "name": "ipython",
    "version": 3
   },
   "file_extension": ".py",
   "mimetype": "text/x-python",
   "name": "python",
   "nbconvert_exporter": "python",
   "pygments_lexer": "ipython3",
   "version": "3.8.8"
  }
 },
 "nbformat": 4,
 "nbformat_minor": 5
}
